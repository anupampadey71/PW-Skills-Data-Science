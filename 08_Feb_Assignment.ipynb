{
  "cells": [
    {
      "cell_type": "markdown",
      "id": "a0dd7b59",
      "metadata": {
        "id": "a0dd7b59"
      },
      "source": [
        "### What is Abstraction in OOps? Explain with an example."
      ]
    },
    {
      "cell_type": "markdown",
      "id": "b8824241",
      "metadata": {
        "id": "b8824241"
      },
      "source": [
        "Abstraction is like a blue print of the class.Abstraction is a fundamental concept in Object-Oriented Programming (OOPs) that allows us to focus on essential aspects of an object while hiding the unnecessary details. It is the process of separating ideas and behaviors from their implementation details.\n",
        "\n",
        "In Python, Abstraction can be achieved through the use of abstract classes and interfaces. Abstract classes are classes that cannot be instantiated, and they are designed to be subclassed. They can contain abstract methods that are declared but not implemented, as well as concrete methods that are fully implemented. Interfaces are similar to abstract classes in that they cannot be instantiated, but they contain only abstract methods and no concrete methods."
      ]
    },
    {
      "cell_type": "code",
      "execution_count": 1,
      "id": "788663e6",
      "metadata": {
        "id": "788663e6"
      },
      "outputs": [],
      "source": [
        "from abc import ABC,abstractmethod  ## importing libraries\n",
        "class Animal(ABC):\n",
        "    @abstractmethod  ## abstract decorator\n",
        "    def make_sound(self):\n",
        "        pass\n",
        "class dog(Animal):\n",
        "    def make_sound(self):\n",
        "        print(\"Bau Bau!\")\n",
        "class cat(Animal):\n",
        "    def make_sound(self):\n",
        "        print(\"Meow Meow!\")\n",
        "def make_animal_sound(animal):\n",
        "        animal.make_sound()\n",
        "dog=dog()\n",
        "cat=cat()\n",
        ""
      ]
    },
    {
      "cell_type": "code",
      "execution_count": 2,
      "id": "e0fa3208",
      "metadata": {
        "colab": {
          "base_uri": "https://localhost:8080/"
        },
        "id": "e0fa3208",
        "outputId": "3d96b4da-9288-4bb7-a057-b59d9977ddbe"
      },
      "outputs": [
        {
          "output_type": "stream",
          "name": "stdout",
          "text": [
            "Meow Meow!\n"
          ]
        }
      ],
      "source": [
        "make_animal_sound(cat)"
      ]
    },
    {
      "cell_type": "markdown",
      "id": "e7fb0069",
      "metadata": {
        "id": "e7fb0069"
      },
      "source": [
        "### Q2. Differentiate between Abstraction and Encapsulation. Explain with an example."
      ]
    },
    {
      "cell_type": "markdown",
      "id": "2d14565a",
      "metadata": {
        "id": "2d14565a"
      },
      "source": [
        "Abstraction and Encapsulation are two fundamental concepts in Object-Oriented Programming (OOPs) that help developers create well-structured, modular, and maintainable code. Although they are related, they are distinct concepts.\n",
        "\n",
        "Abstraction is the process of hiding unnecessary details and focusing on essential aspects of an object. It is the process of identifying and extracting the essential features of an object and representing them in a simplified manner. Abstraction is used to simplify complex systems by breaking them down into smaller, more manageable parts.\n",
        "\n",
        "Encapsulation, on the other hand, is the process of hiding the internal implementation details of an object from the outside world. It is the process of protecting the internal state of an object from external access or modification. Encapsulation is used to improve the reliability and maintainability of the code by preventing unintended changes to the internal state of an object."
      ]
    },
    {
      "cell_type": "markdown",
      "id": "942d1a28",
      "metadata": {
        "id": "942d1a28"
      },
      "source": [
        "### eg of encapsulation"
      ]
    },
    {
      "cell_type": "code",
      "execution_count": 3,
      "id": "c4bd6f40",
      "metadata": {
        "id": "c4bd6f40"
      },
      "outputs": [],
      "source": [
        "class bank:\n",
        "    def __init__(self,acc,name,deposit):\n",
        "        self.__acc=acc  ##encapsulate\n",
        "        self.name=name\n",
        "        self.__deposit=deposit ##encapsulate\n",
        "    def details(self):\n",
        "        return \"your acc number is \",self.__acc,\"your name is \",self.name,\"balance in account is \",self.__deposit\n",
        ""
      ]
    },
    {
      "cell_type": "code",
      "execution_count": 4,
      "id": "2b4baba0",
      "metadata": {
        "id": "2b4baba0"
      },
      "outputs": [],
      "source": [
        "SBI=bank(989898989,\"Anupam\",\"110000\")"
      ]
    },
    {
      "cell_type": "code",
      "execution_count": 5,
      "id": "bac0949a",
      "metadata": {
        "colab": {
          "base_uri": "https://localhost:8080/",
          "height": 35
        },
        "id": "bac0949a",
        "outputId": "8cf3397e-f2b0-44a4-82d9-35454b6467ac"
      },
      "outputs": [
        {
          "output_type": "execute_result",
          "data": {
            "text/plain": [
              "'Anupam'"
            ],
            "application/vnd.google.colaboratory.intrinsic+json": {
              "type": "string"
            }
          },
          "metadata": {},
          "execution_count": 5
        }
      ],
      "source": [
        "SBI.name ## we can access name directly because we donot encapsulate it"
      ]
    },
    {
      "cell_type": "code",
      "execution_count": 6,
      "id": "debeff99",
      "metadata": {
        "colab": {
          "base_uri": "https://localhost:8080/"
        },
        "id": "debeff99",
        "outputId": "c332be5d-679a-4ca5-f293-daa7b8ac0f82"
      },
      "outputs": [
        {
          "output_type": "execute_result",
          "data": {
            "text/plain": [
              "('your acc number is ',\n",
              " 989898989,\n",
              " 'your name is ',\n",
              " 'Anupam',\n",
              " 'balance in account is ',\n",
              " '110000')"
            ]
          },
          "metadata": {},
          "execution_count": 6
        }
      ],
      "source": [
        "SBI.details()"
      ]
    },
    {
      "cell_type": "code",
      "execution_count": 8,
      "id": "90d70d3e",
      "metadata": {
        "colab": {
          "base_uri": "https://localhost:8080/",
          "height": 175
        },
        "id": "90d70d3e",
        "outputId": "2a1930e0-de8f-4df2-96e3-37430872b3a3"
      },
      "outputs": [
        {
          "output_type": "error",
          "ename": "AttributeError",
          "evalue": "'bank' object has no attribute 'deposit'",
          "traceback": [
            "\u001b[0;31m---------------------------------------------------------------------------\u001b[0m",
            "\u001b[0;31mAttributeError\u001b[0m                            Traceback (most recent call last)",
            "\u001b[0;32m<ipython-input-8-2d4443a21767>\u001b[0m in \u001b[0;36m<cell line: 1>\u001b[0;34m()\u001b[0m\n\u001b[0;32m----> 1\u001b[0;31m \u001b[0mSBI\u001b[0m\u001b[0;34m.\u001b[0m\u001b[0mdeposit\u001b[0m \u001b[0;31m##  we cannot directy call it because we do encapsulate it\u001b[0m\u001b[0;34m\u001b[0m\u001b[0;34m\u001b[0m\u001b[0m\n\u001b[0m",
            "\u001b[0;31mAttributeError\u001b[0m: 'bank' object has no attribute 'deposit'"
          ]
        }
      ],
      "source": [
        "SBI.deposit ##  we cannot directy call it because we do encapsulate it"
      ]
    },
    {
      "cell_type": "code",
      "execution_count": 9,
      "id": "67a6b630",
      "metadata": {
        "id": "67a6b630"
      },
      "outputs": [],
      "source": [
        "SBI.name=\"Pandey\" # if we cannot encpasulate it user can change anything by their own"
      ]
    },
    {
      "cell_type": "code",
      "execution_count": 10,
      "id": "72b8419d",
      "metadata": {
        "colab": {
          "base_uri": "https://localhost:8080/",
          "height": 35
        },
        "id": "72b8419d",
        "outputId": "9b1183f8-f821-4d33-f8e9-02a760de455a"
      },
      "outputs": [
        {
          "output_type": "execute_result",
          "data": {
            "text/plain": [
              "'Pandey'"
            ],
            "application/vnd.google.colaboratory.intrinsic+json": {
              "type": "string"
            }
          },
          "metadata": {},
          "execution_count": 10
        }
      ],
      "source": [
        "SBI.name"
      ]
    },
    {
      "cell_type": "code",
      "execution_count": 11,
      "id": "9cf4da25",
      "metadata": {
        "colab": {
          "base_uri": "https://localhost:8080/"
        },
        "id": "9cf4da25",
        "outputId": "7df66ee3-091b-4742-854a-b0c39359df01"
      },
      "outputs": [
        {
          "output_type": "execute_result",
          "data": {
            "text/plain": [
              "('your acc number is ',\n",
              " 989898989,\n",
              " 'your name is ',\n",
              " 'Pandey',\n",
              " 'balance in account is ',\n",
              " '110000')"
            ]
          },
          "metadata": {},
          "execution_count": 11
        }
      ],
      "source": [
        "SBI.details()"
      ]
    },
    {
      "cell_type": "markdown",
      "id": "18e45b28",
      "metadata": {
        "id": "18e45b28"
      },
      "source": [
        "### Abstraction"
      ]
    },
    {
      "cell_type": "code",
      "execution_count": 12,
      "id": "2290520c",
      "metadata": {
        "id": "2290520c"
      },
      "outputs": [],
      "source": [
        "from abc import ABC,abstractmethod  ## importing libraries\n",
        "class Animal(ABC):\n",
        "    @abstractmethod  ## abstract decorator\n",
        "    def make_sound(self):\n",
        "        pass              ## Make a blue-print\n",
        "class dog(Animal):\n",
        "    def make_sound(self):\n",
        "        print(\"Bau Bau!\")\n",
        "class cat(Animal):\n",
        "    def make_sound(self):\n",
        "        print(\"Meow Meow!\")\n",
        "def make_animal_sound(animal):\n",
        "        animal.make_sound()\n",
        "dog=dog()\n",
        "cat=cat()\n",
        ""
      ]
    },
    {
      "cell_type": "code",
      "execution_count": 13,
      "id": "85d92311",
      "metadata": {
        "colab": {
          "base_uri": "https://localhost:8080/"
        },
        "id": "85d92311",
        "outputId": "a404b3b5-fe93-4ee4-ca5e-d5c91d7f67db"
      },
      "outputs": [
        {
          "output_type": "stream",
          "name": "stdout",
          "text": [
            "Bau Bau!\n"
          ]
        }
      ],
      "source": [
        "make_animal_sound(dog)"
      ]
    },
    {
      "cell_type": "code",
      "execution_count": 14,
      "id": "069d80f9",
      "metadata": {
        "colab": {
          "base_uri": "https://localhost:8080/"
        },
        "id": "069d80f9",
        "outputId": "c46ab7d4-503a-4c32-dab4-a9641e1afff0"
      },
      "outputs": [
        {
          "output_type": "stream",
          "name": "stdout",
          "text": [
            "Meow Meow!\n"
          ]
        }
      ],
      "source": [
        "make_animal_sound(cat)"
      ]
    },
    {
      "cell_type": "markdown",
      "id": "c0a4c128",
      "metadata": {
        "id": "c0a4c128"
      },
      "source": [
        "### Q3. What is abc module in python? Why is it used?"
      ]
    },
    {
      "cell_type": "markdown",
      "id": "7a389333",
      "metadata": {
        "id": "7a389333"
      },
      "source": [
        "The abc module in Python stands for Abstract Base Classes. It is a module that provides a way to define abstract classes in Python. An abstract class is a class that cannot be instantiated and is intended to be subclassed by other classes. Abstract classes typically define abstract methods, which must be implemented by the subclasses.\n",
        "\n",
        "The abc module provides the ABC class, which is used as a metaclass for defining abstract base classes. It also provides a set of decorator functions such as @abstractmethod, @abstractclassmethod, @abstractstaticmethod, and @abstractproperty, which can be used to mark methods or properties as abstract in the abstract base class.\n",
        "\n",
        "The abc module is used to create a hierarchy of related classes that share a common interface. It helps to enforce the implementation of certain methods in the subclasses, and also provides a way to check if a class or instance conforms to the interface defined by the abstract base class.\n",
        "\n",
        "Overall, the abc module is a powerful tool for building complex object-oriented systems in Python, and it helps to ensure that your code is more robust and maintainable."
      ]
    },
    {
      "cell_type": "markdown",
      "id": "eb0c4f0e",
      "metadata": {
        "id": "eb0c4f0e"
      },
      "source": [
        "### Q4. How can we achieve data abstraction?"
      ]
    },
    {
      "cell_type": "markdown",
      "id": "ca3931fb",
      "metadata": {
        "id": "ca3931fb"
      },
      "source": [
        "Data abstraction is a technique used in object-oriented programming to hide the implementation details of an object from the user and expose only the relevant information or interfaces. The goal is to simplify the complexity of the system by breaking it down into smaller, more manageable components.\n",
        "\n",
        "In Python, data abstraction can be achieved through the use of classes and objects.\n",
        "\n",
        "    1.Encapsulation: Encapsulation is the practice of hiding the implementation details of an object from the outside world. In Python, this can be achieved by defining class methods as private (using the double underscore prefix), so that they cannot be accessed from outside the class.\n",
        "\n",
        "    2.Inheritance: Inheritance allows you to create a new class that is a modified version of an existing class. By subclassing a class, you can add or override its methods and attributes, and reuse the code of the parent class.\n",
        "\n",
        "    3.Abstract classes: Abstract classes are classes that cannot be instantiated and are intended to be subclassed by other classes. They typically define abstract methods, which must be implemented by the subclasses. This helps to enforce the implementation of certain methods in the subclasses, and also provides a way to check if a class or instance conforms to the interface defined by the abstract base class.\n",
        "\n",
        "    4.Interfaces: An interface is a set of methods and properties that define the behavior of a class, without specifying how the behavior is implemented. In Python, interfaces can be defined using abstract base classes or using the abc module.\n",
        "\n",
        "By using these techniques, you can achieve data abstraction in Python and create more robust and maintainable code."
      ]
    },
    {
      "cell_type": "markdown",
      "id": "6c0591de",
      "metadata": {
        "id": "6c0591de"
      },
      "source": [
        "### Q5.Can we create an instance of an abstract class? Explain your answer."
      ]
    },
    {
      "cell_type": "markdown",
      "id": "5be4ee51",
      "metadata": {
        "id": "5be4ee51"
      },
      "source": [
        "No, we cannot create an instance of an abstract class in Python. An abstract class is a class that is designed to be subclassed and cannot be instantiated on its own.\n",
        "Abstract classes contain one or more abstract methods that have no implementation in the abstract class. These abstract methods are designed to be implemented by the subclasses of the abstract class.\n",
        "When we try to create an instance of an abstract class in Python, it will raise a TypeError exception with the message \"Can't instantiate abstract class <abstract_class> with abstract methods <list_of_abstract_methods>\". This is because Python does not know how to create an instance of an abstract class as it has abstract methods that need to be implemented by the subclass."
      ]
    },
    {
      "cell_type": "code",
      "execution_count": 15,
      "id": "bf206b3e",
      "metadata": {
        "id": "bf206b3e"
      },
      "outputs": [],
      "source": [
        "from abc import ABC,abstractmethod  ## importing libraries\n",
        "class Animal(ABC):\n",
        "    @abstractmethod  ## abstract decorator\n",
        "    def make_sound(self):\n",
        "        pass              ## Make a blue-print\n",
        "class dog(Animal):\n",
        "    def make_sound(self):\n",
        "        print(\"Bau Bau!\")\n",
        "class cat(Animal):\n",
        "    def make_sound(self):\n",
        "        print(\"Meow Meow!\")\n",
        "def make_animal_sound(animal):\n",
        "        animal.make_sound()\n",
        "dog=dog()\n",
        "cat=cat()\n",
        ""
      ]
    },
    {
      "cell_type": "code",
      "execution_count": 16,
      "id": "fb3c2042",
      "metadata": {
        "colab": {
          "base_uri": "https://localhost:8080/",
          "height": 175
        },
        "id": "fb3c2042",
        "outputId": "bf7ccd67-7b9a-4cb5-b4e5-169881f561de"
      },
      "outputs": [
        {
          "output_type": "error",
          "ename": "TypeError",
          "evalue": "Can't instantiate abstract class Animal with abstract method make_sound",
          "traceback": [
            "\u001b[0;31m---------------------------------------------------------------------------\u001b[0m",
            "\u001b[0;31mTypeError\u001b[0m                                 Traceback (most recent call last)",
            "\u001b[0;32m<ipython-input-16-b4349b17e78a>\u001b[0m in \u001b[0;36m<cell line: 1>\u001b[0;34m()\u001b[0m\n\u001b[0;32m----> 1\u001b[0;31m \u001b[0mAnimal1\u001b[0m\u001b[0;34m=\u001b[0m\u001b[0mAnimal\u001b[0m\u001b[0;34m(\u001b[0m\u001b[0;34m)\u001b[0m  \u001b[0;31m## create an instance of an abstract class\u001b[0m\u001b[0;34m\u001b[0m\u001b[0;34m\u001b[0m\u001b[0m\n\u001b[0m",
            "\u001b[0;31mTypeError\u001b[0m: Can't instantiate abstract class Animal with abstract method make_sound"
          ]
        }
      ],
      "source": [
        "Animal1=Animal()  ## create an instance of an abstract class"
      ]
    },
    {
      "cell_type": "code",
      "execution_count": 8,
      "id": "d23d1cdf",
      "metadata": {
        "id": "d23d1cdf"
      },
      "outputs": [],
      "source": []
    }
  ],
  "metadata": {
    "kernelspec": {
      "display_name": "Python 3 (ipykernel)",
      "language": "python",
      "name": "python3"
    },
    "language_info": {
      "codemirror_mode": {
        "name": "ipython",
        "version": 3
      },
      "file_extension": ".py",
      "mimetype": "text/x-python",
      "name": "python",
      "nbconvert_exporter": "python",
      "pygments_lexer": "ipython3",
      "version": "3.9.12"
    },
    "colab": {
      "provenance": []
    }
  },
  "nbformat": 4,
  "nbformat_minor": 5
}