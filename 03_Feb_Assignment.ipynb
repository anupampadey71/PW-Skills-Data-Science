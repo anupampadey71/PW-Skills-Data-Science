{
  "cells": [
    {
      "cell_type": "markdown",
      "id": "0a8b0cd1",
      "metadata": {
        "id": "0a8b0cd1"
      },
      "source": [
        "### 1. Which keyword is used to create a function ? create a function to return a list of odd number in the range of 1 to 25"
      ]
    },
    {
      "cell_type": "markdown",
      "id": "ee0bdf35",
      "metadata": {
        "id": "ee0bdf35"
      },
      "source": [
        " We use def keyword to create a function"
      ]
    },
    {
      "cell_type": "code",
      "execution_count": 1,
      "id": "7eb2e71a",
      "metadata": {
        "id": "7eb2e71a"
      },
      "outputs": [],
      "source": [
        "def odd (a,b):\n",
        "    odd_number=[]\n",
        "    for i in range(a,b):\n",
        "        if i%2!=0:\n",
        "            odd_number.append(i)\n",
        "\n",
        "    return odd_number\n",
        ""
      ]
    },
    {
      "cell_type": "code",
      "execution_count": 2,
      "id": "23be50fe",
      "metadata": {
        "colab": {
          "base_uri": "https://localhost:8080/"
        },
        "id": "23be50fe",
        "outputId": "d15a2e46-fe7d-4561-ae46-e058b399c029"
      },
      "outputs": [
        {
          "output_type": "execute_result",
          "data": {
            "text/plain": [
              "[1, 3, 5, 7, 9, 11, 13, 15, 17, 19, 21, 23]"
            ]
          },
          "metadata": {},
          "execution_count": 2
        }
      ],
      "source": [
        "odd(1,25)"
      ]
    },
    {
      "cell_type": "markdown",
      "id": "c55d24a4",
      "metadata": {
        "id": "c55d24a4"
      },
      "source": [
        "### 2.why *args and **kwargs is used in some functions? Create a function each for *args and **kwargs to demonstrate their use"
      ]
    },
    {
      "cell_type": "markdown",
      "id": "f4f8653a",
      "metadata": {
        "id": "f4f8653a"
      },
      "source": [
        "args stand for arguments and Kwargs stand for keyword arguments.When we want user define variables in our function we use * args and for creating user defined dictionary in function we use **kwargs. We use both of them when we don't know how many variables user wants  in function\n"
      ]
    },
    {
      "cell_type": "code",
      "execution_count": 3,
      "id": "5a5ca254",
      "metadata": {
        "id": "5a5ca254"
      },
      "outputs": [],
      "source": [
        "def names(*args):\n",
        "    return \"hii\" , args"
      ]
    },
    {
      "cell_type": "code",
      "execution_count": 4,
      "id": "d4c63c12",
      "metadata": {
        "colab": {
          "base_uri": "https://localhost:8080/"
        },
        "id": "d4c63c12",
        "outputId": "e0fc0ceb-77b5-4782-e115-1643cb002af2"
      },
      "outputs": [
        {
          "output_type": "execute_result",
          "data": {
            "text/plain": [
              "('hii', ('Saksham', 'Sham', 'Ravi'))"
            ]
          },
          "metadata": {},
          "execution_count": 4
        }
      ],
      "source": [
        "names(\"Saksham\", \"Sham\", \"Ravi\")"
      ]
    },
    {
      "cell_type": "code",
      "execution_count": 5,
      "id": "d7fabce1",
      "metadata": {
        "id": "d7fabce1"
      },
      "outputs": [],
      "source": [
        "def info(**kwargs):\n",
        "    return kwargs"
      ]
    },
    {
      "cell_type": "code",
      "execution_count": 6,
      "id": "73fb2052",
      "metadata": {
        "colab": {
          "base_uri": "https://localhost:8080/"
        },
        "id": "73fb2052",
        "outputId": "16bb835b-9589-4db0-a18f-32d36f971b4a"
      },
      "outputs": [
        {
          "output_type": "execute_result",
          "data": {
            "text/plain": [
              "{'a': [1, 2, 3, 4, 5], 'b': 'saksham', 'c': 23.45}"
            ]
          },
          "metadata": {},
          "execution_count": 6
        }
      ],
      "source": [
        "info(a=[1,2,3,4,5],b=\"saksham\",c=23.45)"
      ]
    },
    {
      "cell_type": "markdown",
      "id": "37f4d66f",
      "metadata": {
        "id": "37f4d66f"
      },
      "source": [
        "### 3 What is an iterator in python?Name the method used to initialise the iterator object and the method used for iteration. use these methods to print the first five elements of the given list [2,4,6,8,10,12,14,16,18,20]"
      ]
    },
    {
      "cell_type": "markdown",
      "id": "cb4bb0da",
      "metadata": {
        "id": "cb4bb0da"
      },
      "source": [
        "An iterator is an object that can be iterated upon, meaning that you can traverse through all the values.\n",
        "In Python, an iterator is an object which implements the iterator protocol, which consist of the methods __iter__() and __next__()."
      ]
    },
    {
      "cell_type": "code",
      "execution_count": 7,
      "id": "7e64bb1c",
      "metadata": {
        "id": "7e64bb1c"
      },
      "outputs": [],
      "source": [
        "l=[2,4,6,8,10,12,14,16,18,20]\n",
        "l1=iter(l)\n"
      ]
    },
    {
      "cell_type": "code",
      "execution_count": 8,
      "id": "dcbc684e",
      "metadata": {
        "colab": {
          "base_uri": "https://localhost:8080/"
        },
        "id": "dcbc684e",
        "outputId": "fd4aa436-35be-4cab-922d-a40532fb9c51"
      },
      "outputs": [
        {
          "output_type": "execute_result",
          "data": {
            "text/plain": [
              "2"
            ]
          },
          "metadata": {},
          "execution_count": 8
        }
      ],
      "source": [
        "next(l1)"
      ]
    },
    {
      "cell_type": "code",
      "execution_count": 9,
      "id": "fc33be0b",
      "metadata": {
        "colab": {
          "base_uri": "https://localhost:8080/"
        },
        "id": "fc33be0b",
        "outputId": "d897b915-c8bf-4707-b211-6d605b5734f8"
      },
      "outputs": [
        {
          "output_type": "execute_result",
          "data": {
            "text/plain": [
              "4"
            ]
          },
          "metadata": {},
          "execution_count": 9
        }
      ],
      "source": [
        "next(l1)"
      ]
    },
    {
      "cell_type": "code",
      "execution_count": 10,
      "id": "c00a00f1",
      "metadata": {
        "colab": {
          "base_uri": "https://localhost:8080/"
        },
        "id": "c00a00f1",
        "outputId": "60d2acfc-75b4-4879-ed0e-b85546329358"
      },
      "outputs": [
        {
          "output_type": "execute_result",
          "data": {
            "text/plain": [
              "6"
            ]
          },
          "metadata": {},
          "execution_count": 10
        }
      ],
      "source": [
        "next(l1)"
      ]
    },
    {
      "cell_type": "code",
      "execution_count": 11,
      "id": "4f64d5cd",
      "metadata": {
        "colab": {
          "base_uri": "https://localhost:8080/"
        },
        "id": "4f64d5cd",
        "outputId": "5ccb2f78-9b47-4f9b-e639-d68f478e5a8a"
      },
      "outputs": [
        {
          "output_type": "execute_result",
          "data": {
            "text/plain": [
              "8"
            ]
          },
          "metadata": {},
          "execution_count": 11
        }
      ],
      "source": [
        "next(l1)"
      ]
    },
    {
      "cell_type": "code",
      "execution_count": 12,
      "id": "fe7ec3f0",
      "metadata": {
        "colab": {
          "base_uri": "https://localhost:8080/"
        },
        "id": "fe7ec3f0",
        "outputId": "802e09b0-3eaa-4a85-e034-ca90dcc01408"
      },
      "outputs": [
        {
          "output_type": "execute_result",
          "data": {
            "text/plain": [
              "10"
            ]
          },
          "metadata": {},
          "execution_count": 12
        }
      ],
      "source": [
        "next(l1)"
      ]
    },
    {
      "cell_type": "markdown",
      "id": "125210b3",
      "metadata": {
        "id": "125210b3"
      },
      "source": [
        "### 4.  What is a generator function in python ? why yield keyword is used ? give an example of generator function."
      ]
    },
    {
      "cell_type": "markdown",
      "id": "742d5f9b",
      "metadata": {
        "id": "742d5f9b"
      },
      "source": [
        "Generator function is a special type function it is used when we have to print our output one by one . Generator function is useful in memory management unlike simple function generator function does not store output values.\n",
        "We use yield keyword in Generator Function like we use return in simple function.\n",
        "Yield keyword throw our output value one by one. Yield keyword control the flow of generator function."
      ]
    },
    {
      "cell_type": "code",
      "execution_count": 13,
      "id": "c9c75aea",
      "metadata": {
        "id": "c9c75aea"
      },
      "outputs": [],
      "source": [
        "def num(n):\n",
        "    i=1\n",
        "    for i in range(n):\n",
        "        yield \"hii\"\n",
        ""
      ]
    },
    {
      "cell_type": "code",
      "execution_count": 14,
      "id": "34f02458",
      "metadata": {
        "colab": {
          "base_uri": "https://localhost:8080/"
        },
        "id": "34f02458",
        "outputId": "915c3bf3-993e-44cb-b751-3ba3ac2dc172"
      },
      "outputs": [
        {
          "output_type": "execute_result",
          "data": {
            "text/plain": [
              "<generator object num at 0x7c83da19a810>"
            ]
          },
          "metadata": {},
          "execution_count": 14
        }
      ],
      "source": [
        "num(10)"
      ]
    },
    {
      "cell_type": "code",
      "execution_count": 15,
      "id": "538b140c",
      "metadata": {
        "colab": {
          "base_uri": "https://localhost:8080/"
        },
        "id": "538b140c",
        "outputId": "12c4e4ed-6258-4df7-d94e-2b28060a449a"
      },
      "outputs": [
        {
          "output_type": "stream",
          "name": "stdout",
          "text": [
            "hii\n",
            "hii\n",
            "hii\n",
            "hii\n",
            "hii\n",
            "hii\n",
            "hii\n",
            "hii\n",
            "hii\n",
            "hii\n"
          ]
        }
      ],
      "source": [
        "for i in num(10):\n",
        "    print(i)\n"
      ]
    },
    {
      "cell_type": "markdown",
      "id": "c2b417ee",
      "metadata": {
        "id": "c2b417ee"
      },
      "source": [
        "### 5 Create a generator function for prime number less than 1000.use the next() method to print the first 20 prime numbers."
      ]
    },
    {
      "cell_type": "code",
      "execution_count": 16,
      "id": "65fe4fa2",
      "metadata": {
        "id": "65fe4fa2"
      },
      "outputs": [],
      "source": [
        "def prime():\n",
        "    l=[]\n",
        "    i=2\n",
        "    while i < 1000:\n",
        "        for l1 in l:\n",
        "            if i%l1==0:\n",
        "                break\n",
        "        else:\n",
        "            l.append(i)\n",
        "            yield i\n",
        "        i=i+1"
      ]
    },
    {
      "cell_type": "code",
      "execution_count": 17,
      "id": "53a1ef51",
      "metadata": {
        "colab": {
          "base_uri": "https://localhost:8080/"
        },
        "id": "53a1ef51",
        "outputId": "8904df08-86b5-4854-a3d4-625d34e6edb2"
      },
      "outputs": [
        {
          "output_type": "stream",
          "name": "stdout",
          "text": [
            "2\n",
            "3\n",
            "5\n",
            "7\n",
            "11\n",
            "13\n",
            "17\n",
            "19\n",
            "23\n",
            "29\n",
            "31\n",
            "37\n",
            "41\n",
            "43\n",
            "47\n",
            "53\n",
            "59\n",
            "61\n",
            "67\n",
            "71\n"
          ]
        }
      ],
      "source": [
        "p=prime()\n",
        "count=0\n",
        "while count <20:\n",
        "    print(next(p))\n",
        "    count=count+1"
      ]
    },
    {
      "cell_type": "markdown",
      "id": "459985ee",
      "metadata": {
        "id": "459985ee"
      },
      "source": [
        "### 6. Write a python program to print the first 10 fibonacci number using while loop."
      ]
    },
    {
      "cell_type": "code",
      "execution_count": 18,
      "id": "ff628643",
      "metadata": {
        "id": "ff628643"
      },
      "outputs": [],
      "source": [
        "def fib(n):\n",
        "    i=0\n",
        "    a=0\n",
        "    b=1\n",
        "    result=[]\n",
        "    while i<=n:\n",
        "        result.append(a)\n",
        "        c=a+b\n",
        "        a=b\n",
        "        b=c\n",
        "        i=i+1\n",
        "    return result\n",
        "\n",
        "\n",
        "\n",
        "\n",
        "\n",
        "\n",
        "\n"
      ]
    },
    {
      "cell_type": "code",
      "execution_count": 19,
      "id": "7e14a079",
      "metadata": {
        "colab": {
          "base_uri": "https://localhost:8080/"
        },
        "id": "7e14a079",
        "outputId": "c5b439f2-fac9-4fb6-912f-f6134a954c79"
      },
      "outputs": [
        {
          "output_type": "execute_result",
          "data": {
            "text/plain": [
              "[0, 1, 1, 2, 3, 5, 8, 13, 21, 34, 55]"
            ]
          },
          "metadata": {},
          "execution_count": 19
        }
      ],
      "source": [
        "fib(10)"
      ]
    },
    {
      "cell_type": "markdown",
      "id": "bd335af6",
      "metadata": {
        "id": "bd335af6"
      },
      "source": [
        "### 7. Write a list Comprehension to iterate through the given string: 'pwskills"
      ]
    },
    {
      "cell_type": "code",
      "execution_count": 20,
      "id": "111c0389",
      "metadata": {
        "id": "111c0389"
      },
      "outputs": [],
      "source": [
        "s='pwskills'"
      ]
    },
    {
      "cell_type": "code",
      "execution_count": 21,
      "id": "bf8ea6ab",
      "metadata": {
        "colab": {
          "base_uri": "https://localhost:8080/"
        },
        "id": "bf8ea6ab",
        "outputId": "297380eb-f958-492f-e222-414956bdc160"
      },
      "outputs": [
        {
          "output_type": "execute_result",
          "data": {
            "text/plain": [
              "['p', 'w', 's', 'k', 'i', 'l', 'l', 's']"
            ]
          },
          "metadata": {},
          "execution_count": 21
        }
      ],
      "source": [
        "[i for i in s]"
      ]
    },
    {
      "cell_type": "markdown",
      "id": "2630ed46",
      "metadata": {
        "id": "2630ed46"
      },
      "source": [
        "### 8. Write a program to check whether a given number is palindrome or not using a while loop"
      ]
    },
    {
      "cell_type": "code",
      "execution_count": 22,
      "id": "e22ae254",
      "metadata": {
        "colab": {
          "base_uri": "https://localhost:8080/"
        },
        "id": "e22ae254",
        "outputId": "48933193-d361-4ddf-e072-da98c572c01d"
      },
      "outputs": [
        {
          "output_type": "stream",
          "name": "stdout",
          "text": [
            "Enter your number:- 1331\n",
            "Given number is palindrome\n"
          ]
        }
      ],
      "source": [
        "number=int(input(\"Enter your number:- \"))\n",
        "# num=number\n",
        "reverse=0\n",
        "num=number\n",
        "\n",
        "while number>0:\n",
        "    reverse=(reverse*10)+number%10\n",
        "    number=number//10\n",
        "if num==reverse:\n",
        "    print(\"Given number is palindrome\")\n",
        "else:\n",
        "    print(\"Given number is not a palindrome\")\n",
        "\n",
        "\n"
      ]
    },
    {
      "cell_type": "markdown",
      "id": "420de916",
      "metadata": {
        "id": "420de916"
      },
      "source": [
        "### 9. Write a code to print odd number from 1 to 100 using list comprehension"
      ]
    },
    {
      "cell_type": "code",
      "execution_count": 23,
      "id": "fa1851c9",
      "metadata": {
        "id": "fa1851c9"
      },
      "outputs": [],
      "source": [
        "s=[]\n",
        "for i in range(1,101):\n",
        "    s.append(i)\n",
        "\n",
        "\n"
      ]
    },
    {
      "cell_type": "code",
      "execution_count": 24,
      "id": "e1bcc623",
      "metadata": {
        "colab": {
          "base_uri": "https://localhost:8080/"
        },
        "id": "e1bcc623",
        "outputId": "39566888-3986-488c-af5d-12cf7531763a"
      },
      "outputs": [
        {
          "output_type": "execute_result",
          "data": {
            "text/plain": [
              "[1,\n",
              " 3,\n",
              " 5,\n",
              " 7,\n",
              " 9,\n",
              " 11,\n",
              " 13,\n",
              " 15,\n",
              " 17,\n",
              " 19,\n",
              " 21,\n",
              " 23,\n",
              " 25,\n",
              " 27,\n",
              " 29,\n",
              " 31,\n",
              " 33,\n",
              " 35,\n",
              " 37,\n",
              " 39,\n",
              " 41,\n",
              " 43,\n",
              " 45,\n",
              " 47,\n",
              " 49,\n",
              " 51,\n",
              " 53,\n",
              " 55,\n",
              " 57,\n",
              " 59,\n",
              " 61,\n",
              " 63,\n",
              " 65,\n",
              " 67,\n",
              " 69,\n",
              " 71,\n",
              " 73,\n",
              " 75,\n",
              " 77,\n",
              " 79,\n",
              " 81,\n",
              " 83,\n",
              " 85,\n",
              " 87,\n",
              " 89,\n",
              " 91,\n",
              " 93,\n",
              " 95,\n",
              " 97,\n",
              " 99]"
            ]
          },
          "metadata": {},
          "execution_count": 24
        }
      ],
      "source": [
        "list(filter(lambda a : a%2!=0,s))"
      ]
    },
    {
      "cell_type": "code",
      "execution_count": 24,
      "id": "a141f8c0",
      "metadata": {
        "id": "a141f8c0"
      },
      "outputs": [],
      "source": []
    }
  ],
  "metadata": {
    "kernelspec": {
      "display_name": "Python 3 (ipykernel)",
      "language": "python",
      "name": "python3"
    },
    "language_info": {
      "codemirror_mode": {
        "name": "ipython",
        "version": 3
      },
      "file_extension": ".py",
      "mimetype": "text/x-python",
      "name": "python",
      "nbconvert_exporter": "python",
      "pygments_lexer": "ipython3",
      "version": "3.9.12"
    },
    "colab": {
      "provenance": []
    }
  },
  "nbformat": 4,
  "nbformat_minor": 5
}