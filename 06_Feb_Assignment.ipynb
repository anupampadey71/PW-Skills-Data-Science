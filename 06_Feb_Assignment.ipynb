{
 "cells": [
  {
   "cell_type": "markdown",
   "id": "2ccc865e",
   "metadata": {},
   "source": [
    "### Q1. Create a function which will take a list as an \n",
    "argument and return the product of all the numbers after creating a flat list. Use the below-given list as an argument for your function.\n",
    "list1 = [1,2,3,4, [44,55,66, True], False, (34,56,78,89,34), {1,2,3,3,2,1}, {1:34, \"key2\": [55, 67, 78, 89], 4: (45,22, 61, 34)}, [56, 'data science'], 'Machine Learning']"
   ]
  },
  {
   "cell_type": "code",
   "execution_count": 17,
   "id": "33830fae",
   "metadata": {},
   "outputs": [],
   "source": [
    "list1 = [1,2,3,4, [44,55,66, True], False, (34,56,78,89,34), {1,2,3,3,2,1}, {1:34, \"key2\": [55, 67, 78, 89], 4: (45,22, 61, 34)}, [56, 'data science'], 'Machine Learning']"
   ]
  },
  {
   "cell_type": "code",
   "execution_count": 18,
   "id": "1644eb76",
   "metadata": {},
   "outputs": [
    {
     "data": {
      "text/plain": [
       "[1,\n",
       " 2,\n",
       " 3,\n",
       " 4,\n",
       " 44,\n",
       " 55,\n",
       " 66,\n",
       " 34,\n",
       " 56,\n",
       " 78,\n",
       " 89,\n",
       " 34,\n",
       " 1,\n",
       " 2,\n",
       " 3,\n",
       " 1,\n",
       " 4,\n",
       " 34,\n",
       " 55,\n",
       " 67,\n",
       " 78,\n",
       " 89,\n",
       " 45,\n",
       " 22,\n",
       " 61,\n",
       " 34,\n",
       " 56]"
      ]
     },
     "execution_count": 18,
     "metadata": {},
     "output_type": "execute_result"
    }
   ],
   "source": [
    "from functools import reduce\n",
    "flatList=[]\n",
    "def product(lst):\n",
    "    for i in lst: #iterating in list1\n",
    "        if type(i)==list or type(i)==tuple or type(i)==set:\n",
    "            for j in i: # for iterating in list,tuple,set\n",
    "                if type(j)==int:\n",
    "                    flatList.append(j)\n",
    "        elif type(i)==dict:\n",
    "            for a in i.keys(): #for iterating in dict keyside\n",
    "                if type(a)==int:\n",
    "                    flatList.append(a)\n",
    "            for b in i.values(): # for iterating in dict values\n",
    "                if type(b)==int:\n",
    "                    flatList.append(b)\n",
    "                if type(b)==list or type(b)==tuple:\n",
    "                    for c in b:\n",
    "                        if type(c)==int:\n",
    "                            flatList.append(c)\n",
    "        else:\n",
    "            if type(i)==int:\n",
    "                flatList.append(i)\n",
    "    return flatList\n",
    "product(list1)"
   ]
  },
  {
   "cell_type": "code",
   "execution_count": 19,
   "id": "7ed1de3f",
   "metadata": {},
   "outputs": [
    {
     "data": {
      "text/plain": [
       "4134711838987085478833841242112000"
      ]
     },
     "execution_count": 19,
     "metadata": {},
     "output_type": "execute_result"
    }
   ],
   "source": [
    "reduce(lambda x,y:x*y,flatList)"
   ]
  },
  {
   "cell_type": "markdown",
   "id": "384175f9",
   "metadata": {},
   "source": [
    "##### Q2. Write a python program for encrypting a message sent to you by your friend. The logic of encryption should be such that, for a the output should be z. For b, the output should be y. For c, the output should be x respectively. Also, the whitespace should be replaced with a dollar sign. Keep the punctuation marks unchanged. \n",
    "Input Sentence: I want to become a Data Scientist. Encrypt the above input sentence using the program you just created. Note: Convert the given input sentence into lowercase before encrypting. The final output should be lowercase."
   ]
  },
  {
   "cell_type": "code",
   "execution_count": 20,
   "id": "d78fa10d",
   "metadata": {},
   "outputs": [],
   "source": [
    "def encrypt_message(message):\n",
    "    message=message.lower()\n",
    "    encrypted_message=\"\"\n",
    "    \n",
    "    for char in message:\n",
    "        if char==\" \":\n",
    "            encrypted_message=encrypted_message +\"$\"\n",
    "        elif char.isalpha():\n",
    "            encrypted_char= chr(219-ord(char)) ##Converting a to z 219 is sum of ascii value of a and z \n",
    "            encrypted_message+=encrypted_char\n",
    "        else:\n",
    "            encrypted_message+=char\n",
    "    return encrypted_message\n",
    "    "
   ]
  },
  {
   "cell_type": "code",
   "execution_count": 21,
   "id": "681675c0",
   "metadata": {},
   "outputs": [],
   "source": [
    "message=\"I want to become a Data Scientist.\""
   ]
  },
  {
   "cell_type": "code",
   "execution_count": 22,
   "id": "5c0f2c12",
   "metadata": {},
   "outputs": [
    {
     "data": {
      "text/plain": [
       "'r$dzmg$gl$yvxlnv$z$wzgz$hxrvmgrhg.'"
      ]
     },
     "execution_count": 22,
     "metadata": {},
     "output_type": "execute_result"
    }
   ],
   "source": [
    "encrypt_message(message)"
   ]
  },
  {
   "cell_type": "code",
   "execution_count": null,
   "id": "6aacfe86",
   "metadata": {},
   "outputs": [],
   "source": []
  }
 ],
 "metadata": {
  "kernelspec": {
   "display_name": "Python 3 (ipykernel)",
   "language": "python",
   "name": "python3"
  },
  "language_info": {
   "codemirror_mode": {
    "name": "ipython",
    "version": 3
   },
   "file_extension": ".py",
   "mimetype": "text/x-python",
   "name": "python",
   "nbconvert_exporter": "python",
   "pygments_lexer": "ipython3",
   "version": "3.9.12"
  }
 },
 "nbformat": 4,
 "nbformat_minor": 5
}
