{
  "cells": [
    {
      "cell_type": "markdown",
      "id": "9606b8be",
      "metadata": {
        "id": "9606b8be"
      },
      "source": [
        "### 1.Create a python program to sort the given list of tuples based on integer value using a lambda function\n"
      ]
    },
    {
      "cell_type": "code",
      "execution_count": 1,
      "id": "268b5135",
      "metadata": {
        "id": "268b5135"
      },
      "outputs": [],
      "source": [
        "t=[('Sachin Tendulkar', 34357), ('Ricky Ponting', 27483), ('Jack Kallis', 25534), ('Virat Kohli', 24936)]"
      ]
    },
    {
      "cell_type": "code",
      "execution_count": 2,
      "id": "faff3ff1",
      "metadata": {
        "id": "faff3ff1"
      },
      "outputs": [],
      "source": [
        "sort= sorted(t,key=lambda x:x[1],reverse=False)"
      ]
    },
    {
      "cell_type": "code",
      "execution_count": 3,
      "id": "08c99c96",
      "metadata": {
        "colab": {
          "base_uri": "https://localhost:8080/"
        },
        "id": "08c99c96",
        "outputId": "744a6a8e-8fca-43da-f19e-b98abf984617"
      },
      "outputs": [
        {
          "output_type": "execute_result",
          "data": {
            "text/plain": [
              "[('Virat Kohli', 24936),\n",
              " ('Jack Kallis', 25534),\n",
              " ('Ricky Ponting', 27483),\n",
              " ('Sachin Tendulkar', 34357)]"
            ]
          },
          "metadata": {},
          "execution_count": 3
        }
      ],
      "source": [
        "sort"
      ]
    },
    {
      "cell_type": "markdown",
      "id": "deadce44",
      "metadata": {
        "id": "deadce44"
      },
      "source": [
        "### 2.Write a Python Program to find the squares of all the numbers in the given list of integers using\n",
        "lambda and map functions.\n",
        "[1, 2, 3, 4, 5, 6, 7, 8, 9, 10]"
      ]
    },
    {
      "cell_type": "code",
      "execution_count": 4,
      "id": "0a2f689a",
      "metadata": {
        "id": "0a2f689a"
      },
      "outputs": [],
      "source": [
        "l=[1,2,3,4,5,6,7,8,9,10]"
      ]
    },
    {
      "cell_type": "code",
      "execution_count": 5,
      "id": "e0c95378",
      "metadata": {
        "id": "e0c95378"
      },
      "outputs": [],
      "source": [
        "sqr=list(map(lambda l : l**2,l))"
      ]
    },
    {
      "cell_type": "code",
      "execution_count": 6,
      "id": "f5b2e6b4",
      "metadata": {
        "colab": {
          "base_uri": "https://localhost:8080/"
        },
        "id": "f5b2e6b4",
        "outputId": "5b5637f7-c1bb-472f-e632-61ea57737e0f"
      },
      "outputs": [
        {
          "output_type": "execute_result",
          "data": {
            "text/plain": [
              "[1, 4, 9, 16, 25, 36, 49, 64, 81, 100]"
            ]
          },
          "metadata": {},
          "execution_count": 6
        }
      ],
      "source": [
        "sqr"
      ]
    },
    {
      "cell_type": "markdown",
      "id": "2d0a924b",
      "metadata": {
        "id": "2d0a924b"
      },
      "source": [
        "### 3. Write a python program to convert the given list of integers into a tuple of strings.use map and lambda function"
      ]
    },
    {
      "cell_type": "code",
      "execution_count": 7,
      "id": "e2bebc7b",
      "metadata": {
        "id": "e2bebc7b"
      },
      "outputs": [],
      "source": [
        "s=[1,2,3,4,5,6,7,8,9,10]"
      ]
    },
    {
      "cell_type": "code",
      "execution_count": 8,
      "id": "1e397e08",
      "metadata": {
        "id": "1e397e08"
      },
      "outputs": [],
      "source": [
        "t=tuple(map(lambda s:str(s),s))"
      ]
    },
    {
      "cell_type": "code",
      "execution_count": 9,
      "id": "aba30494",
      "metadata": {
        "colab": {
          "base_uri": "https://localhost:8080/"
        },
        "id": "aba30494",
        "outputId": "10482f18-9ed3-4359-9672-71fa6598b5c1"
      },
      "outputs": [
        {
          "output_type": "execute_result",
          "data": {
            "text/plain": [
              "('1', '2', '3', '4', '5', '6', '7', '8', '9', '10')"
            ]
          },
          "metadata": {},
          "execution_count": 9
        }
      ],
      "source": [
        "t"
      ]
    },
    {
      "cell_type": "markdown",
      "id": "9f07c8e7",
      "metadata": {
        "id": "9f07c8e7"
      },
      "source": [
        "###  Q4. Write a python program using reduce function to compute the product of a list containing numbers from 1 to 25."
      ]
    },
    {
      "cell_type": "code",
      "execution_count": 10,
      "id": "d93721b4",
      "metadata": {
        "colab": {
          "base_uri": "https://localhost:8080/"
        },
        "id": "d93721b4",
        "outputId": "c9bb0c56-f6c7-450d-ffff-cc7e6553b76f"
      },
      "outputs": [
        {
          "output_type": "execute_result",
          "data": {
            "text/plain": [
              "15511210043330985984000000"
            ]
          },
          "metadata": {},
          "execution_count": 10
        }
      ],
      "source": [
        "from functools import reduce\n",
        "l=list(range(1,26))\n",
        "reduce(lambda x,y:x*y,l)"
      ]
    },
    {
      "cell_type": "markdown",
      "id": "dbe8e6d3",
      "metadata": {
        "id": "dbe8e6d3"
      },
      "source": [
        "### Q5.Write a python program to filter the numbers in a given list that are divisible by 2 and 3 using thefilter function.[2, 3, 6, 9, 27, 60, 90, 120, 55, 46]"
      ]
    },
    {
      "cell_type": "code",
      "execution_count": 11,
      "id": "4fc8553c",
      "metadata": {
        "id": "4fc8553c"
      },
      "outputs": [],
      "source": [
        "l=[2,3,6,9,27,60,90,120,55,46]"
      ]
    },
    {
      "cell_type": "code",
      "execution_count": 12,
      "id": "df3b63a7",
      "metadata": {
        "id": "df3b63a7"
      },
      "outputs": [],
      "source": [
        "f=list(filter(lambda x:x%2==0 or x%3==0,l))"
      ]
    },
    {
      "cell_type": "code",
      "execution_count": 13,
      "id": "40ec3968",
      "metadata": {
        "colab": {
          "base_uri": "https://localhost:8080/"
        },
        "id": "40ec3968",
        "outputId": "450e4272-4350-4731-b11f-b6c0b1492010"
      },
      "outputs": [
        {
          "output_type": "execute_result",
          "data": {
            "text/plain": [
              "[2, 3, 6, 9, 27, 60, 90, 120, 46]"
            ]
          },
          "metadata": {},
          "execution_count": 13
        }
      ],
      "source": [
        "f"
      ]
    },
    {
      "cell_type": "markdown",
      "id": "5eef01a7",
      "metadata": {
        "id": "5eef01a7"
      },
      "source": [
        "### Q6. Write a python program to find palindromes in the given list of strings using lambda and filter function.['python', 'php', 'aba', 'radar', 'level']"
      ]
    },
    {
      "cell_type": "code",
      "execution_count": 14,
      "id": "4e933038",
      "metadata": {
        "id": "4e933038"
      },
      "outputs": [],
      "source": [
        "l=['python', 'php', 'aba', 'radar', 'level']"
      ]
    },
    {
      "cell_type": "code",
      "execution_count": 15,
      "id": "bdc61656",
      "metadata": {
        "id": "bdc61656"
      },
      "outputs": [],
      "source": [
        "palindrome=list(filter(lambda l:l==l[::-1],l))"
      ]
    },
    {
      "cell_type": "code",
      "execution_count": 16,
      "id": "02d03117",
      "metadata": {
        "colab": {
          "base_uri": "https://localhost:8080/"
        },
        "id": "02d03117",
        "outputId": "912de4fb-9d52-40bc-9427-2e6b7904ba29"
      },
      "outputs": [
        {
          "output_type": "execute_result",
          "data": {
            "text/plain": [
              "['php', 'aba', 'radar', 'level']"
            ]
          },
          "metadata": {},
          "execution_count": 16
        }
      ],
      "source": [
        "palindrome"
      ]
    },
    {
      "cell_type": "code",
      "execution_count": 16,
      "id": "040774f7",
      "metadata": {
        "id": "040774f7"
      },
      "outputs": [],
      "source": []
    }
  ],
  "metadata": {
    "kernelspec": {
      "display_name": "Python 3 (ipykernel)",
      "language": "python",
      "name": "python3"
    },
    "language_info": {
      "codemirror_mode": {
        "name": "ipython",
        "version": 3
      },
      "file_extension": ".py",
      "mimetype": "text/x-python",
      "name": "python",
      "nbconvert_exporter": "python",
      "pygments_lexer": "ipython3",
      "version": "3.9.12"
    },
    "colab": {
      "provenance": []
    }
  },
  "nbformat": 4,
  "nbformat_minor": 5
}