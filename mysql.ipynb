{
 "cells": [
  {
   "cell_type": "markdown",
   "metadata": {},
   "source": [
    "Q1. What is a database? Differentiate between SQL and NoSQL databases.\n",
    "Ans Database: A database is an organized collection of structured information or data stored and accessed electronically. It can be of different types, such as relational databases (SQL) or non-relational databases (NoSQL).\n",
    "\n",
    "SQL Databases: SQL (Structured Query Language) databases are relational databases that store and manage data in tables with predefined schemas. They use SQL for querying and manipulating the data. Examples include MySQL, PostgreSQL, Oracle, and SQL Server.\n",
    "\n",
    "NoSQL Databases: NoSQL databases are non-relational databases that do not require a fixed schema and are designed to handle unstructured and varied data types. They offer flexibility and scalability and come in various types such as document-oriented (MongoDB), key-value stores (Redis), column-oriented (Cassandra), and graph databases (Neo4j)."
   ]
  },
  {
   "cell_type": "markdown",
   "metadata": {},
   "source": [
    "Q2. What is DDL? Explain why CREATE, DROP, ALTER, and TRUNCATE are used with an example.\n",
    "\n",
    "Ans DDL (Data Definition Language): It's a subset of SQL used to define the structure of a database, such as creating, modifying, and deleting tables and other database objects.\n",
    "\n",
    "CREATE: To create new database objects (e.g., tables, views, indexes). Example: CREATE TABLE customers (id INT PRIMARY KEY, name VARCHAR(255), email VARCHAR(255));\n",
    "\n",
    "DROP: To delete database objects. Example: DROP TABLE customers;\n",
    "\n",
    "ALTER: To modify the structure of existing database objects. Example: ALTER TABLE customers ADD COLUMN phone_number VARCHAR(20);\n",
    "\n",
    "TRUNCATE: To quickly remove all data from a table without deleting the table itself. Example: TRUNCATE TABLE customers;\n",
    "\n",
    "\n",
    "\n"
   ]
  },
  {
   "cell_type": "markdown",
   "metadata": {},
   "source": [
    "Q3. What is DML? Explain INSERT, UPDATE, and DELETE with an example.\n",
    "\n",
    "Ans DML (Data Manipulation Language): It's a subset of SQL used to manipulate data within database tables, such as adding, modifying, and deleting records.\n",
    "\n",
    "INSERT: To add new records to a table. Example: INSERT INTO customers (name, email) VALUES ('John Doe', 'johndoe@example.com');\n",
    "UPDATE: To modify existing records in a table. Example: UPDATE customers SET email = 'johndoe@newdomain.com' WHERE id = 1;\n",
    "DELETE: To remove records from a table. Example: DELETE FROM customers WHERE id = 4;\n"
   ]
  },
  {
   "cell_type": "markdown",
   "metadata": {},
   "source": [
    "Q4. What is DQL? Explain SELECT with an example.\n",
    "\n",
    "Ans DQL (Data Query Language): It's a subset of SQL used to retrieve data from a database. The primary DQL command is SELECT.\n",
    "\n",
    "SELECT: To retrieve data from one or more tables. Example: SELECT name, email FROM customers;"
   ]
  },
  {
   "cell_type": "markdown",
   "metadata": {},
   "source": [
    "Q5. Explain Primary Key and Foreign Key.\n",
    "\n",
    "Ans Primary Key: A unique identifier for each record in a table. It ensures no two records have the same value for that column.\n",
    "Foreign Key: A column in one table that references the primary key of another table, establishing relationships between tables."
   ]
  },
  {
   "cell_type": "markdown",
   "metadata": {},
   "source": [
    "Q6. Write a Python code to connect MySQL to Python. Explain the cursor() and execute() method.\n",
    "\n",
    "Ans Code: \n",
    "import mysql.connector\n",
    "\n",
    "# Connect to the MySQL database\n",
    "mydb = mysql.connector.connect(\n",
    "  host=\"localhost\",\n",
    "  user=\"yourusername\",\n",
    "  password=\"yourpassword\",\n",
    "  database=\"mydatabase\"\n",
    ")\n",
    "\n",
    "# Create a cursor object\n",
    "mycursor = mydb.cursor()\n",
    "\n",
    "# Execute a SQL query\n",
    "mycursor.execute(\"SELECT * FROM customers\")\n",
    "\n",
    "# Fetch the results\n",
    "myresult = mycursor.fetchall()\n",
    "\n",
    "# Print the results\n",
    "for row in myresult:\n",
    "  print(row)\n",
    "\n",
    "# Close the cursor and database connection\n",
    "mycursor.close()\n",
    "mydb.close()\n",
    "\n",
    "\n",
    "cursor(): Creates a cursor object, used to interact with the database and execute SQL queries.\n",
    "execute(): Executes a SQL query against the database."
   ]
  },
  {
   "cell_type": "markdown",
   "metadata": {},
   "source": [
    "Q7. Give the order of execution of SQL clauses in an SQL query.\n",
    "\n",
    "Ans \n",
    "1 FROM\n",
    "2 WHERE\n",
    "3 GROUP BY\n",
    "4 HAVING\n",
    "5 SELECT\n",
    "6 ORDER BY"
   ]
  },
  {
   "cell_type": "markdown",
   "metadata": {},
   "source": []
  },
  {
   "cell_type": "markdown",
   "metadata": {},
   "source": []
  }
 ],
 "metadata": {
  "language_info": {
   "name": "python"
  }
 },
 "nbformat": 4,
 "nbformat_minor": 2
}
