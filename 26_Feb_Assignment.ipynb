{
  "cells": [
    {
      "cell_type": "code",
      "execution_count": 1,
      "id": "9c901ecf-6b68-4e6b-aa9f-da44cb3edb81",
      "metadata": {
        "id": "9c901ecf-6b68-4e6b-aa9f-da44cb3edb81"
      },
      "outputs": [],
      "source": [
        "import numpy as np"
      ]
    },
    {
      "cell_type": "code",
      "execution_count": 2,
      "id": "4e43deb8-8a92-4728-b53a-530c4b49cf0f",
      "metadata": {
        "id": "4e43deb8-8a92-4728-b53a-530c4b49cf0f"
      },
      "outputs": [],
      "source": [
        "list_ = [ '1' , '2' , '3' , '4' , '5']\n",
        "array_list = np.array(object = list_)"
      ]
    },
    {
      "cell_type": "markdown",
      "id": "1aa7d9cf-b7e0-48b3-8c92-672ffb18c4ac",
      "metadata": {
        "id": "1aa7d9cf-b7e0-48b3-8c92-672ffb18c4ac"
      },
      "source": [
        "### Q1. Is there any difference in the data type of variables list_ and array_list?\n",
        "If there is then write a code to print the data types of both the variables."
      ]
    },
    {
      "cell_type": "code",
      "execution_count": 3,
      "id": "3ec19db8-f232-4a7e-91e4-c225c2969bf2",
      "metadata": {
        "colab": {
          "base_uri": "https://localhost:8080/"
        },
        "id": "3ec19db8-f232-4a7e-91e4-c225c2969bf2",
        "outputId": "8d1c99cf-2bdf-431d-8fa3-d592378719ef"
      },
      "outputs": [
        {
          "output_type": "stream",
          "name": "stdout",
          "text": [
            "['1', '2', '3', '4', '5']\n",
            "<class 'list'>\n"
          ]
        }
      ],
      "source": [
        "print(list_)\n",
        "# This the a normal list that we use in python\n",
        "# It's data types is <class 'list'>\n",
        "# No new library is required for this\n",
        "print(type(list_))"
      ]
    },
    {
      "cell_type": "code",
      "execution_count": 4,
      "id": "57aac298-2180-4071-b070-95657989a82f",
      "metadata": {
        "colab": {
          "base_uri": "https://localhost:8080/"
        },
        "id": "57aac298-2180-4071-b070-95657989a82f",
        "outputId": "f8e008fa-57ba-462c-e9ba-4c0abe0822ee"
      },
      "outputs": [
        {
          "output_type": "stream",
          "name": "stdout",
          "text": [
            "['1' '2' '3' '4' '5']\n",
            "<class 'numpy.ndarray'>\n"
          ]
        }
      ],
      "source": [
        "print(array_list)\n",
        "# This is an numpy array\n",
        "# It's data types is <class 'numpy.ndarray'>\n",
        "# We need to import numpy to use this\n",
        "print(type(array_list))"
      ]
    },
    {
      "cell_type": "code",
      "execution_count": 4,
      "id": "1b73922a-46bb-433b-8d7b-2ba40d891b7c",
      "metadata": {
        "id": "1b73922a-46bb-433b-8d7b-2ba40d891b7c"
      },
      "outputs": [],
      "source": []
    },
    {
      "cell_type": "markdown",
      "id": "94248d6c-487c-4475-b401-048c44ca4399",
      "metadata": {
        "id": "94248d6c-487c-4475-b401-048c44ca4399"
      },
      "source": [
        "### Q2. Write a code to print the data type of each and every element of both the variables list_ and arra_list."
      ]
    },
    {
      "cell_type": "code",
      "execution_count": 5,
      "id": "59631f40-7f30-4c0b-b654-e4cacac3cbcb",
      "metadata": {
        "colab": {
          "base_uri": "https://localhost:8080/"
        },
        "id": "59631f40-7f30-4c0b-b654-e4cacac3cbcb",
        "outputId": "a2cf51e3-bd5b-4cf1-b9e1-c3adc0ca3f0c"
      },
      "outputs": [
        {
          "output_type": "execute_result",
          "data": {
            "text/plain": [
              "dtype('<U1')"
            ]
          },
          "metadata": {},
          "execution_count": 5
        }
      ],
      "source": [
        "# array_list\n",
        "array_list.dtype"
      ]
    },
    {
      "cell_type": "code",
      "execution_count": 6,
      "id": "13e88a11-6384-4c24-b57a-ba596806a834",
      "metadata": {
        "colab": {
          "base_uri": "https://localhost:8080/"
        },
        "id": "13e88a11-6384-4c24-b57a-ba596806a834",
        "outputId": "0d7be373-58b1-4664-e9bc-ef315842ed15"
      },
      "outputs": [
        {
          "output_type": "stream",
          "name": "stdout",
          "text": [
            "<class 'numpy.str_'>\n",
            "<class 'numpy.str_'>\n",
            "<class 'numpy.str_'>\n",
            "<class 'numpy.str_'>\n",
            "<class 'numpy.str_'>\n"
          ]
        }
      ],
      "source": [
        "for i in array_list: print(type(i))"
      ]
    },
    {
      "cell_type": "code",
      "execution_count": 7,
      "id": "a4c5f232-7d2e-44a7-b7aa-3e56be7d739c",
      "metadata": {
        "colab": {
          "base_uri": "https://localhost:8080/"
        },
        "id": "a4c5f232-7d2e-44a7-b7aa-3e56be7d739c",
        "outputId": "d213f746-9723-45b4-f142-b7128e61a9ef"
      },
      "outputs": [
        {
          "output_type": "stream",
          "name": "stdout",
          "text": [
            "<class 'str'>\n",
            "<class 'str'>\n",
            "<class 'str'>\n",
            "<class 'str'>\n",
            "<class 'str'>\n"
          ]
        }
      ],
      "source": [
        "# list_\n",
        "for i in list_: print(type(i))"
      ]
    },
    {
      "cell_type": "code",
      "execution_count": 7,
      "id": "f4597cf9-a91b-4e00-9aef-5c0a1feb6cbb",
      "metadata": {
        "id": "f4597cf9-a91b-4e00-9aef-5c0a1feb6cbb"
      },
      "outputs": [],
      "source": []
    },
    {
      "cell_type": "markdown",
      "id": "2be4b966-2058-4215-b4e2-09ec02396ac6",
      "metadata": {
        "id": "2be4b966-2058-4215-b4e2-09ec02396ac6"
      },
      "source": [
        "### Q3. Considering the following changes in the variable, array_list:\n",
        "\n",
        "array_list = np.array(object = list_, dtype = int)\n",
        "\n",
        "Will there be any difference in the data type of the elements present in both the variables, list_ and\n",
        "arra_list? If so then print the data types of each and every element present in both the variables, list_\n",
        "and arra_list."
      ]
    },
    {
      "cell_type": "code",
      "execution_count": 8,
      "id": "ab7d7a01-5d32-4c5d-8a7e-6f7555d2900f",
      "metadata": {
        "id": "ab7d7a01-5d32-4c5d-8a7e-6f7555d2900f"
      },
      "outputs": [],
      "source": [
        "array_list = np.array(object = list_, dtype = int)"
      ]
    },
    {
      "cell_type": "code",
      "execution_count": 9,
      "id": "a6df62f2-abdd-4577-a0e5-64d9d04b8c2d",
      "metadata": {
        "colab": {
          "base_uri": "https://localhost:8080/"
        },
        "id": "a6df62f2-abdd-4577-a0e5-64d9d04b8c2d",
        "outputId": "682681cf-99c6-4fa7-e8aa-aed698f200d9"
      },
      "outputs": [
        {
          "output_type": "execute_result",
          "data": {
            "text/plain": [
              "dtype('int64')"
            ]
          },
          "metadata": {},
          "execution_count": 9
        }
      ],
      "source": [
        "array_list.dtype\n",
        "# This types has been changes form Str(Unicode string) to Integer"
      ]
    },
    {
      "cell_type": "markdown",
      "source": [
        "## Answer :\n",
        "\n",
        "# Yes There will be difference in datatypes of elements present in both lists.\n",
        "\n",
        "# List elements will have data type string and array_list will have datatype numpy integer\n",
        "\n",
        "# Below is code for showing same"
      ],
      "metadata": {
        "id": "DXGmTd3yEjQl"
      },
      "id": "DXGmTd3yEjQl"
    },
    {
      "cell_type": "code",
      "execution_count": 10,
      "id": "820916da-56d9-456a-b1b3-64528f5b7788",
      "metadata": {
        "colab": {
          "base_uri": "https://localhost:8080/"
        },
        "id": "820916da-56d9-456a-b1b3-64528f5b7788",
        "outputId": "bc53a875-debb-46a8-ae4d-aabc3b238970"
      },
      "outputs": [
        {
          "output_type": "stream",
          "name": "stdout",
          "text": [
            "Element value : 1, datatype = <class 'str'>\n",
            "Element value : 2, datatype = <class 'str'>\n",
            "Element value : 3, datatype = <class 'str'>\n",
            "Element value : 4, datatype = <class 'str'>\n",
            "Element value : 5, datatype = <class 'str'>\n"
          ]
        }
      ],
      "source": [
        "# Printing data types of each and every element in list_:\n",
        "for i in list_:\n",
        "    print(f'Element value : {i}, datatype = {type(i)}')"
      ]
    },
    {
      "cell_type": "code",
      "execution_count": 11,
      "id": "961bf605-b584-4cb9-a810-00744e4eb183",
      "metadata": {
        "colab": {
          "base_uri": "https://localhost:8080/"
        },
        "id": "961bf605-b584-4cb9-a810-00744e4eb183",
        "outputId": "0a59954a-6a61-45b3-ed18-0c2ea5f04f2c"
      },
      "outputs": [
        {
          "output_type": "stream",
          "name": "stdout",
          "text": [
            "Element value : 1, datatype = <class 'numpy.int64'>\n",
            "Element value : 2, datatype = <class 'numpy.int64'>\n",
            "Element value : 3, datatype = <class 'numpy.int64'>\n",
            "Element value : 4, datatype = <class 'numpy.int64'>\n",
            "Element value : 5, datatype = <class 'numpy.int64'>\n"
          ]
        }
      ],
      "source": [
        "# Printing data types of each and every element in modified array_list\n",
        "for i in array_list:\n",
        "    print(f'Element value : {i}, datatype = {type(i)}')"
      ]
    },
    {
      "cell_type": "code",
      "execution_count": 12,
      "id": "3d05596e-33aa-4bac-9986-592744df911b",
      "metadata": {
        "colab": {
          "base_uri": "https://localhost:8080/"
        },
        "id": "3d05596e-33aa-4bac-9986-592744df911b",
        "outputId": "baaa1185-16ab-42ec-aabe-3be470173b9f"
      },
      "outputs": [
        {
          "output_type": "execute_result",
          "data": {
            "text/plain": [
              "array([[1, 2, 3],\n",
              "       [4, 5, 6]])"
            ]
          },
          "metadata": {},
          "execution_count": 12
        }
      ],
      "source": [
        "# Consider the below code to answer further questions:\n",
        "num_list = [ [ 1 , 2 , 3 ] , [ 4 , 5 , 6 ] ]\n",
        "num_array = np.array(object = num_list)\n",
        "num_array"
      ]
    },
    {
      "cell_type": "markdown",
      "id": "7c995a87-3f33-44fb-9b15-1fae87613439",
      "metadata": {
        "id": "7c995a87-3f33-44fb-9b15-1fae87613439"
      },
      "source": [
        "### Q4. Write a code to find the following characteristics of variable, num_array:"
      ]
    },
    {
      "cell_type": "code",
      "execution_count": 13,
      "id": "81aa8727-d6cd-459e-bfea-662f0dda5e13",
      "metadata": {
        "colab": {
          "base_uri": "https://localhost:8080/"
        },
        "id": "81aa8727-d6cd-459e-bfea-662f0dda5e13",
        "outputId": "e5061b72-6d75-4cdd-d7a9-dac6269ccb15"
      },
      "outputs": [
        {
          "output_type": "execute_result",
          "data": {
            "text/plain": [
              "(2, 3)"
            ]
          },
          "metadata": {},
          "execution_count": 13
        }
      ],
      "source": [
        "# (i) shape\n",
        "num_array.shape"
      ]
    },
    {
      "cell_type": "code",
      "execution_count": 14,
      "id": "f924385d-566e-474e-979d-4f589f5d8746",
      "metadata": {
        "id": "f924385d-566e-474e-979d-4f589f5d8746"
      },
      "outputs": [],
      "source": [
        "# (ii) size"
      ]
    },
    {
      "cell_type": "code",
      "execution_count": 15,
      "id": "0db9b117-5390-417b-8358-47faf79f9f23",
      "metadata": {
        "colab": {
          "base_uri": "https://localhost:8080/"
        },
        "id": "0db9b117-5390-417b-8358-47faf79f9f23",
        "outputId": "1498cb92-01c3-4897-b4f6-c4d2e01aeb59"
      },
      "outputs": [
        {
          "output_type": "execute_result",
          "data": {
            "text/plain": [
              "6"
            ]
          },
          "metadata": {},
          "execution_count": 15
        }
      ],
      "source": [
        "num_array.size"
      ]
    },
    {
      "cell_type": "code",
      "execution_count": 15,
      "id": "e2ca5d93-73d9-42ed-abf7-593f8a4da74b",
      "metadata": {
        "id": "e2ca5d93-73d9-42ed-abf7-593f8a4da74b"
      },
      "outputs": [],
      "source": []
    },
    {
      "cell_type": "markdown",
      "id": "4c0f2709-6514-4fb1-b8b1-045e88297a26",
      "metadata": {
        "id": "4c0f2709-6514-4fb1-b8b1-045e88297a26"
      },
      "source": [
        "### Q5. Write a code to create numpy array of 3*3 matrix containing zeros only,\n",
        "using a numpy array creation function.\n",
        "\n",
        "[Hint: The size of the array will be 9 and the shape will be (3,3).]"
      ]
    },
    {
      "cell_type": "code",
      "execution_count": 16,
      "id": "e14c5df7-1bab-4578-acfb-180efa723c41",
      "metadata": {
        "colab": {
          "base_uri": "https://localhost:8080/"
        },
        "id": "e14c5df7-1bab-4578-acfb-180efa723c41",
        "outputId": "ddde1b90-6f6b-4078-dfed-b11be3f4911f"
      },
      "outputs": [
        {
          "output_type": "execute_result",
          "data": {
            "text/plain": [
              "array([[0., 0., 0.],\n",
              "       [0., 0., 0.],\n",
              "       [0., 0., 0.]])"
            ]
          },
          "metadata": {},
          "execution_count": 16
        }
      ],
      "source": [
        "np.zeros((3,3))"
      ]
    },
    {
      "cell_type": "code",
      "execution_count": 17,
      "id": "cd763d8b-22cd-47bb-8015-b397bdac42e7",
      "metadata": {
        "colab": {
          "base_uri": "https://localhost:8080/"
        },
        "id": "cd763d8b-22cd-47bb-8015-b397bdac42e7",
        "outputId": "02218548-2140-45fa-889b-ba4103dacf64"
      },
      "outputs": [
        {
          "output_type": "execute_result",
          "data": {
            "text/plain": [
              "matrix([[0., 0., 0.],\n",
              "        [0., 0., 0.],\n",
              "        [0., 0., 0.]])"
            ]
          },
          "metadata": {},
          "execution_count": 17
        }
      ],
      "source": [
        "np.matrix(np.zeros((3,3)))"
      ]
    },
    {
      "cell_type": "code",
      "execution_count": 17,
      "id": "2c8a04b5-955a-4361-a684-d647d78583b0",
      "metadata": {
        "id": "2c8a04b5-955a-4361-a684-d647d78583b0"
      },
      "outputs": [],
      "source": []
    },
    {
      "cell_type": "markdown",
      "id": "216e446d-5833-4c1e-83c0-d2140f0d9cb2",
      "metadata": {
        "id": "216e446d-5833-4c1e-83c0-d2140f0d9cb2"
      },
      "source": [
        "### Q6. Create an identity matrix of shape (5,5) using numpy functions?\n",
        "\n",
        "[Hint: An identity matrix is a matrix containing 1 diagonally and other elements will be 0.]"
      ]
    },
    {
      "cell_type": "code",
      "execution_count": 18,
      "id": "06cc1aff-acbe-4ab0-abb6-19a6b2c75a50",
      "metadata": {
        "colab": {
          "base_uri": "https://localhost:8080/"
        },
        "id": "06cc1aff-acbe-4ab0-abb6-19a6b2c75a50",
        "outputId": "c21d9428-9b0b-4e28-f92c-587896a4ede6"
      },
      "outputs": [
        {
          "output_type": "execute_result",
          "data": {
            "text/plain": [
              "array([[1., 0., 0., 0., 0.],\n",
              "       [0., 1., 0., 0., 0.],\n",
              "       [0., 0., 1., 0., 0.],\n",
              "       [0., 0., 0., 1., 0.],\n",
              "       [0., 0., 0., 0., 1.]])"
            ]
          },
          "metadata": {},
          "execution_count": 18
        }
      ],
      "source": [
        "np.eye(5)"
      ]
    },
    {
      "cell_type": "code",
      "execution_count": 19,
      "id": "5a2724f6-62de-42fe-8dc1-1cb69bc8a460",
      "metadata": {
        "colab": {
          "base_uri": "https://localhost:8080/"
        },
        "id": "5a2724f6-62de-42fe-8dc1-1cb69bc8a460",
        "outputId": "a4f05ffb-77cb-43f0-87a6-1ca0f03537e3"
      },
      "outputs": [
        {
          "output_type": "execute_result",
          "data": {
            "text/plain": [
              "matrix([[1., 0., 0., 0., 0.],\n",
              "        [0., 1., 0., 0., 0.],\n",
              "        [0., 0., 1., 0., 0.],\n",
              "        [0., 0., 0., 1., 0.],\n",
              "        [0., 0., 0., 0., 1.]])"
            ]
          },
          "metadata": {},
          "execution_count": 19
        }
      ],
      "source": [
        "np.matrix(np.eye(5))"
      ]
    },
    {
      "cell_type": "code",
      "execution_count": 19,
      "id": "acc18944-6d92-46a1-8233-94f4dbada0cf",
      "metadata": {
        "id": "acc18944-6d92-46a1-8233-94f4dbada0cf"
      },
      "outputs": [],
      "source": []
    },
    {
      "cell_type": "code",
      "execution_count": 19,
      "id": "33e2e1e5-09cb-48c7-9825-8104de3ae30c",
      "metadata": {
        "id": "33e2e1e5-09cb-48c7-9825-8104de3ae30c"
      },
      "outputs": [],
      "source": []
    }
  ],
  "metadata": {
    "kernelspec": {
      "display_name": "Python 3 (ipykernel)",
      "language": "python",
      "name": "python3"
    },
    "language_info": {
      "codemirror_mode": {
        "name": "ipython",
        "version": 3
      },
      "file_extension": ".py",
      "mimetype": "text/x-python",
      "name": "python",
      "nbconvert_exporter": "python",
      "pygments_lexer": "ipython3",
      "version": "3.10.8"
    },
    "colab": {
      "provenance": []
    }
  },
  "nbformat": 4,
  "nbformat_minor": 5
}