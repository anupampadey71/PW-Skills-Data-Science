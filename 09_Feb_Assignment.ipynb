{
  "cells": [
    {
      "cell_type": "markdown",
      "id": "40708011",
      "metadata": {
        "id": "40708011"
      },
      "source": [
        "### Q1, Create a vehicle class with an init method having instance variables as name_of_vehicle, max_speed and average_of_vehicle."
      ]
    },
    {
      "cell_type": "code",
      "execution_count": 1,
      "id": "0e0e5d42",
      "metadata": {
        "id": "0e0e5d42"
      },
      "outputs": [],
      "source": [
        "class vehicle:\n",
        "    def __init__(self,name_of_vehicle,max_speed,average_of_vehicle):\n",
        "        self.name_of_vehicle=name_of_vehicle\n",
        "        self.max_speed= max_speed\n",
        "        self.average_of_vehicle=average_of_vehicle\n",
        ""
      ]
    },
    {
      "cell_type": "markdown",
      "id": "1ac4ad9a",
      "metadata": {
        "id": "1ac4ad9a"
      },
      "source": [
        "### Q2,Create a child class car from the vehicle class created in Que 1, which will inherit the vehicle class. Create a method named seating_capacity which takes capacity as an argument and returns the name of the vehicle and its seating capacity."
      ]
    },
    {
      "cell_type": "code",
      "execution_count": 2,
      "id": "37c2cf2f",
      "metadata": {
        "id": "37c2cf2f"
      },
      "outputs": [],
      "source": [
        "class car(vehicle):\n",
        "    def seating_capacity(self,capacity):\n",
        "        return \"name of the vehicle is \",self.name_of_vehicle ,\"and seating capacity is \",capacity\n",
        ""
      ]
    },
    {
      "cell_type": "code",
      "execution_count": 3,
      "id": "c9d55adb",
      "metadata": {
        "id": "c9d55adb"
      },
      "outputs": [],
      "source": [
        "b=car(\"Honda\",98,60)"
      ]
    },
    {
      "cell_type": "code",
      "execution_count": 4,
      "id": "751d7369",
      "metadata": {
        "colab": {
          "base_uri": "https://localhost:8080/"
        },
        "id": "751d7369",
        "outputId": "69c87e77-e760-4b39-a1e2-990c206b9568"
      },
      "outputs": [
        {
          "output_type": "execute_result",
          "data": {
            "text/plain": [
              "('name of the vehicle is ', 'Honda', 'and seating capacity is ', 4)"
            ]
          },
          "metadata": {},
          "execution_count": 4
        }
      ],
      "source": [
        "b.seating_capacity(4)"
      ]
    },
    {
      "cell_type": "markdown",
      "id": "807692e5",
      "metadata": {
        "id": "807692e5"
      },
      "source": [
        "### Q3. What is multiple inheritance? Write a python code to demonstrate multiple inheritance."
      ]
    },
    {
      "cell_type": "markdown",
      "id": "4e5aec3b",
      "metadata": {
        "id": "4e5aec3b"
      },
      "source": [
        "Multiple inheritance:-is a feature of some object-oriented computer programming languages in which an object or class can inherit features from more than one parent object or parent class. It is distinct from single inheritance, where an object or class may only inherit from one particular object or class.\n",
        "eg"
      ]
    },
    {
      "cell_type": "code",
      "execution_count": 5,
      "id": "29646c93",
      "metadata": {
        "id": "29646c93"
      },
      "outputs": [],
      "source": [
        "class vehicle:\n",
        "    def __init__(self,name_of_vehicle,max_speed,average_of_vehicle):\n",
        "        self.name_of_vehicle=name_of_vehicle\n",
        "        self.max_speed= max_speed\n",
        "        self.average_of_vehicle=average_of_vehicle"
      ]
    },
    {
      "cell_type": "code",
      "execution_count": 6,
      "id": "cf07d419",
      "metadata": {
        "id": "cf07d419"
      },
      "outputs": [],
      "source": [
        "class Type:\n",
        "    def type_of_vehicle(self):\n",
        "        return \"Heavy Motar Vehicle\"\n",
        "\n",
        ""
      ]
    },
    {
      "cell_type": "code",
      "execution_count": 7,
      "id": "9f8f0a01",
      "metadata": {
        "id": "9f8f0a01"
      },
      "outputs": [],
      "source": [
        "class car(vehicle,Type): ## inherit from parent class vehicle,Type\n",
        "    pass\n",
        ""
      ]
    },
    {
      "cell_type": "code",
      "execution_count": 8,
      "id": "4b31cbd9",
      "metadata": {
        "id": "4b31cbd9"
      },
      "outputs": [],
      "source": [
        "a=car(\"Honda\",200000,32)"
      ]
    },
    {
      "cell_type": "code",
      "execution_count": 9,
      "id": "57c9a518",
      "metadata": {
        "colab": {
          "base_uri": "https://localhost:8080/"
        },
        "id": "57c9a518",
        "outputId": "8ff794df-eb12-40d6-ddef-c3caab30582c"
      },
      "outputs": [
        {
          "output_type": "execute_result",
          "data": {
            "text/plain": [
              "32"
            ]
          },
          "metadata": {},
          "execution_count": 9
        }
      ],
      "source": [
        "a.average_of_vehicle #inherit from vehicle class"
      ]
    },
    {
      "cell_type": "code",
      "execution_count": 10,
      "id": "ad4dc1dc",
      "metadata": {
        "colab": {
          "base_uri": "https://localhost:8080/"
        },
        "id": "ad4dc1dc",
        "outputId": "a70e66e2-9ca2-468f-88f0-c35a6e6d8709"
      },
      "outputs": [
        {
          "output_type": "execute_result",
          "data": {
            "text/plain": [
              "200000"
            ]
          },
          "metadata": {},
          "execution_count": 10
        }
      ],
      "source": [
        "a.max_speed #inherit from vehicle class"
      ]
    },
    {
      "cell_type": "code",
      "execution_count": 11,
      "id": "1244ba91",
      "metadata": {
        "colab": {
          "base_uri": "https://localhost:8080/",
          "height": 35
        },
        "id": "1244ba91",
        "outputId": "e71e0c79-fcda-4c4e-dcfa-0a8476b47d35"
      },
      "outputs": [
        {
          "output_type": "execute_result",
          "data": {
            "text/plain": [
              "'Honda'"
            ],
            "application/vnd.google.colaboratory.intrinsic+json": {
              "type": "string"
            }
          },
          "metadata": {},
          "execution_count": 11
        }
      ],
      "source": [
        "a.name_of_vehicle #inherit from vehicle class"
      ]
    },
    {
      "cell_type": "code",
      "execution_count": 12,
      "id": "8ea8c835",
      "metadata": {
        "colab": {
          "base_uri": "https://localhost:8080/",
          "height": 35
        },
        "id": "8ea8c835",
        "outputId": "c51ba733-14f5-4b4a-85aa-4aa83d6773ec"
      },
      "outputs": [
        {
          "output_type": "execute_result",
          "data": {
            "text/plain": [
              "'Heavy Motar Vehicle'"
            ],
            "application/vnd.google.colaboratory.intrinsic+json": {
              "type": "string"
            }
          },
          "metadata": {},
          "execution_count": 12
        }
      ],
      "source": [
        "a.type_of_vehicle() #inherit from Type class"
      ]
    },
    {
      "cell_type": "markdown",
      "id": "0d5dfb68",
      "metadata": {
        "id": "0d5dfb68"
      },
      "source": [
        "### Q4. What are getter and setter in python? Create a class and create a getter and a setter method in this class."
      ]
    },
    {
      "cell_type": "markdown",
      "id": "015ec582",
      "metadata": {
        "id": "015ec582"
      },
      "source": [
        "In Python, getters and setters are methods used to access and modify the values of class attributes or properties. Getters are used to get or retrieve the value of an attribute, while setters are used to set or modify the value of an attribute."
      ]
    },
    {
      "cell_type": "code",
      "execution_count": 13,
      "id": "217a8f46",
      "metadata": {
        "id": "217a8f46"
      },
      "outputs": [],
      "source": [
        "class personal_info:\n",
        "    def __init__(self,name,aadhar,pan):\n",
        "        self.name=name\n",
        "        self.__aadhar=aadhar ##encapsulate\n",
        "        self.__pan=pan\n",
        "    @property\n",
        "    def Know_Info(self):\n",
        "        return self.name , self.__aadhar,self.__pan\n",
        "    @Know_Info.setter ### modify value\n",
        "    def changepan(self,pan):\n",
        "        self.__pan=pan"
      ]
    },
    {
      "cell_type": "code",
      "execution_count": 14,
      "id": "2e507e23",
      "metadata": {
        "id": "2e507e23"
      },
      "outputs": [],
      "source": [
        "pi=personal_info(\"Anupam\",9866584567,8858256669)"
      ]
    },
    {
      "cell_type": "code",
      "execution_count": 15,
      "id": "fa02f579",
      "metadata": {
        "colab": {
          "base_uri": "https://localhost:8080/",
          "height": 35
        },
        "id": "fa02f579",
        "outputId": "2e10f4a4-adab-469b-8085-4af5329d6515"
      },
      "outputs": [
        {
          "output_type": "execute_result",
          "data": {
            "text/plain": [
              "'Anupam'"
            ],
            "application/vnd.google.colaboratory.intrinsic+json": {
              "type": "string"
            }
          },
          "metadata": {},
          "execution_count": 15
        }
      ],
      "source": [
        "pi.name"
      ]
    },
    {
      "cell_type": "code",
      "execution_count": 16,
      "id": "088d6715",
      "metadata": {
        "colab": {
          "base_uri": "https://localhost:8080/"
        },
        "id": "088d6715",
        "outputId": "df80c22d-14c9-4bb7-c005-22410e786270"
      },
      "outputs": [
        {
          "output_type": "execute_result",
          "data": {
            "text/plain": [
              "('Anupam', 9866584567, 8858256669)"
            ]
          },
          "metadata": {},
          "execution_count": 16
        }
      ],
      "source": [
        "pi.Know_Info"
      ]
    },
    {
      "cell_type": "code",
      "execution_count": 17,
      "id": "21657690",
      "metadata": {
        "id": "21657690"
      },
      "outputs": [],
      "source": [
        "pi.changepan=8888888888 # modify to new value"
      ]
    },
    {
      "cell_type": "code",
      "execution_count": 18,
      "id": "319863cf",
      "metadata": {
        "colab": {
          "base_uri": "https://localhost:8080/"
        },
        "id": "319863cf",
        "outputId": "f3a10da9-6355-4432-fd8c-7f9698b0055c"
      },
      "outputs": [
        {
          "output_type": "execute_result",
          "data": {
            "text/plain": [
              "('Anupam', 9866584567, 8888888888)"
            ]
          },
          "metadata": {},
          "execution_count": 18
        }
      ],
      "source": [
        "pi.Know_Info"
      ]
    },
    {
      "cell_type": "markdown",
      "id": "dd487686",
      "metadata": {
        "id": "dd487686"
      },
      "source": [
        "### Q5.What is method overriding in python? Write a python code to demonstrate method overriding."
      ]
    },
    {
      "cell_type": "markdown",
      "id": "942cbd46",
      "metadata": {
        "id": "942cbd46"
      },
      "source": [
        "Method overriding is an ability of any object-oriented programming language that allows a subclass or child class to provide a specific implementation of a method that is already provided by one of its super-classes or parent classes. When a method in a subclass has the same name, same parameters or signature and same return type(or sub-type) as a method in its super-class, then the method in the subclass is said to override the method in the super-class."
      ]
    },
    {
      "cell_type": "code",
      "execution_count": 19,
      "id": "e30bcc13",
      "metadata": {
        "id": "e30bcc13"
      },
      "outputs": [],
      "source": [
        "class Animal:\n",
        "    def make_sound(self):\n",
        "        pass"
      ]
    },
    {
      "cell_type": "code",
      "execution_count": 20,
      "id": "05bb9818",
      "metadata": {
        "id": "05bb9818"
      },
      "outputs": [],
      "source": [
        "class Dog(Animal):\n",
        "        def make_sound(self):\n",
        "            print( \"Bau Bau\")"
      ]
    },
    {
      "cell_type": "code",
      "execution_count": 21,
      "id": "14c77379",
      "metadata": {
        "id": "14c77379"
      },
      "outputs": [],
      "source": [
        "class Cat(Animal):\n",
        "    def make_sound(self):\n",
        "        print(\"Meow Meow\")"
      ]
    },
    {
      "cell_type": "code",
      "execution_count": 22,
      "id": "e79f3fa9",
      "metadata": {
        "id": "e79f3fa9"
      },
      "outputs": [],
      "source": [
        "animal=Animal()\n",
        "dog=Dog()\n",
        "cat=Cat()"
      ]
    },
    {
      "cell_type": "code",
      "execution_count": 23,
      "id": "c24e3c79",
      "metadata": {
        "colab": {
          "base_uri": "https://localhost:8080/"
        },
        "id": "c24e3c79",
        "outputId": "398eb3f8-8f53-436b-dd26-6931ab9abbf9"
      },
      "outputs": [
        {
          "output_type": "stream",
          "name": "stdout",
          "text": [
            "Bau Bau\n",
            "Meow Meow\n"
          ]
        }
      ],
      "source": [
        "animal.make_sound()\n",
        "dog.make_sound()\n",
        "cat.make_sound()"
      ]
    },
    {
      "cell_type": "code",
      "execution_count": 23,
      "id": "77dff7be",
      "metadata": {
        "id": "77dff7be"
      },
      "outputs": [],
      "source": []
    }
  ],
  "metadata": {
    "kernelspec": {
      "display_name": "Python 3 (ipykernel)",
      "language": "python",
      "name": "python3"
    },
    "language_info": {
      "codemirror_mode": {
        "name": "ipython",
        "version": 3
      },
      "file_extension": ".py",
      "mimetype": "text/x-python",
      "name": "python",
      "nbconvert_exporter": "python",
      "pygments_lexer": "ipython3",
      "version": "3.9.12"
    },
    "colab": {
      "provenance": []
    }
  },
  "nbformat": 4,
  "nbformat_minor": 5
}