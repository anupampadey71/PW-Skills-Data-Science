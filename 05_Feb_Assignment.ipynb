{
  "cells": [
    {
      "cell_type": "markdown",
      "id": "c9a68673",
      "metadata": {
        "id": "c9a68673"
      },
      "source": [
        "### Q1. Explain Class and Object with respect to Object-Oriented Programming. Give a suitable example."
      ]
    },
    {
      "cell_type": "markdown",
      "id": "84e05702",
      "metadata": {
        "id": "84e05702"
      },
      "source": [
        "In object-oriented Programming(OOP),a class is a blueprint or a template that describes the properties(attribute) and behaviors(methods) of a certain type of objects.An object, on other hand is an instance of a class, with its own set of attributes and behaviors\n",
        "\n",
        "in python we can define a class using the'class' Keywoed"
      ]
    },
    {
      "cell_type": "code",
      "execution_count": 1,
      "id": "4374c99c",
      "metadata": {
        "id": "4374c99c"
      },
      "outputs": [],
      "source": [
        "class Courses:\n",
        "    def __init__(self,name,price):\n",
        "        self.name=name\n",
        "        self.price=price\n",
        "    def details(self):\n",
        "        print (\"Name of course is \", self.name,\"and Price is \", self.price)\n",
        "\n",
        ""
      ]
    },
    {
      "cell_type": "code",
      "execution_count": 2,
      "id": "dc47b974",
      "metadata": {
        "id": "dc47b974"
      },
      "outputs": [],
      "source": [
        "c=Courses(\"Data_Science\",2500)"
      ]
    },
    {
      "cell_type": "code",
      "execution_count": 3,
      "id": "32da644c",
      "metadata": {
        "colab": {
          "base_uri": "https://localhost:8080/"
        },
        "id": "32da644c",
        "outputId": "a10b5aa9-a9af-4aec-954e-4c8d6b718d67"
      },
      "outputs": [
        {
          "output_type": "stream",
          "name": "stdout",
          "text": [
            "Name of course is  Data_Science and Price is  2500\n"
          ]
        }
      ],
      "source": [
        "c.details()"
      ]
    },
    {
      "cell_type": "code",
      "execution_count": 4,
      "id": "eb4d742f",
      "metadata": {
        "colab": {
          "base_uri": "https://localhost:8080/",
          "height": 35
        },
        "id": "eb4d742f",
        "outputId": "b7e15090-584d-4d93-a9c8-3292119b4816"
      },
      "outputs": [
        {
          "output_type": "execute_result",
          "data": {
            "text/plain": [
              "'Data_Science'"
            ],
            "application/vnd.google.colaboratory.intrinsic+json": {
              "type": "string"
            }
          },
          "metadata": {},
          "execution_count": 4
        }
      ],
      "source": [
        "c.name"
      ]
    },
    {
      "cell_type": "code",
      "execution_count": 5,
      "id": "f235566c",
      "metadata": {
        "colab": {
          "base_uri": "https://localhost:8080/"
        },
        "id": "f235566c",
        "outputId": "2dceeb5b-7769-4771-ecd3-9b31f96357c8"
      },
      "outputs": [
        {
          "output_type": "execute_result",
          "data": {
            "text/plain": [
              "2500"
            ]
          },
          "metadata": {},
          "execution_count": 5
        }
      ],
      "source": [
        "c.price"
      ]
    },
    {
      "cell_type": "markdown",
      "id": "f1e12c1a",
      "metadata": {
        "id": "f1e12c1a"
      },
      "source": [
        "### Q2. Name the four pillars of OOPs."
      ]
    },
    {
      "cell_type": "markdown",
      "id": "266e8ee9",
      "metadata": {
        "id": "266e8ee9"
      },
      "source": [
        "## # The four pillars of OOps are\n",
        "1.Encapsulation\n",
        "2.Polymorphism\n",
        "3.Inheritance\n",
        "4.Abstraction\n",
        "\n",
        "## Encapsulation:\n",
        "The concept of bundling data and methods that operate on that data within one unit or entity, which restricts access to the internal workings of that unit from the outside world. Encapsulation helps to keep code organized, secure, and easy to maintain by hiding the implementation details from the users of the class.\n",
        "\n",
        "## Abstraction:\n",
        "The process of hiding complex implementation details and exposing only the essential features of an object. Abstraction allows you to focus on what an object does instead of how it does it. This helps to reduce the complexity of the code and make it easier to understand.\n",
        "\n",
        "## Inheritance:\n",
        "The ability to create a new class from an existing class, inheriting its attributes and methods. Inheritance allows you to reuse existing code, and it enables you to create a hierarchy of classes that share common attributes and methods.\n",
        "\n",
        "## Polymorphism:\n",
        "The ability of objects of different classes to be used interchangeably. Polymorphism allows you to write code that can work with objects of multiple types, without having to know the details of each type. This makes code more flexible and adaptable to changes."
      ]
    },
    {
      "cell_type": "markdown",
      "id": "6a0ee76c",
      "metadata": {
        "id": "6a0ee76c"
      },
      "source": [
        "### Q3. Explain why the __init__() function is used. Give a suitable example."
      ]
    },
    {
      "cell_type": "markdown",
      "id": "5ad717ad",
      "metadata": {
        "id": "5ad717ad"
      },
      "source": [
        "init() is a constructor it is uesd for passing attributes to our class\n",
        "One of the primary uses of __init__() method is to define and initialize the instance variables of a class. Instance variables are specific to each object of a class and their values can vary from one object to another."
      ]
    },
    {
      "cell_type": "code",
      "execution_count": 6,
      "id": "957f92b5",
      "metadata": {
        "id": "957f92b5"
      },
      "outputs": [],
      "source": [
        "class Courses:\n",
        "    def __init__(self,name,price):\n",
        "        self.name=name\n",
        "        self.price=price\n",
        "    def details(self):\n",
        "        print (\"Name of course is \", self.name,\"and Price is \", self.price)"
      ]
    },
    {
      "cell_type": "code",
      "execution_count": 7,
      "id": "ddc91049",
      "metadata": {
        "id": "ddc91049"
      },
      "outputs": [],
      "source": [
        "c=Courses(\"Data_Science\",3500)"
      ]
    },
    {
      "cell_type": "code",
      "execution_count": 8,
      "id": "4490a8dc",
      "metadata": {
        "colab": {
          "base_uri": "https://localhost:8080/"
        },
        "id": "4490a8dc",
        "outputId": "106b4464-bb81-4c40-d954-0c8ddf2fecb1"
      },
      "outputs": [
        {
          "output_type": "stream",
          "name": "stdout",
          "text": [
            "Name of course is  Data_Science and Price is  3500\n"
          ]
        }
      ],
      "source": [
        "c.details()"
      ]
    },
    {
      "cell_type": "markdown",
      "id": "cf187bf1",
      "metadata": {
        "id": "cf187bf1"
      },
      "source": [
        "#### without __init__"
      ]
    },
    {
      "cell_type": "code",
      "execution_count": 9,
      "id": "40506f86",
      "metadata": {
        "id": "40506f86"
      },
      "outputs": [],
      "source": [
        "class Course:\n",
        "    def details(self):\n",
        "        print (\"Name of course is \", self.name,\"and Price is \", self.price)"
      ]
    },
    {
      "cell_type": "code",
      "execution_count": 11,
      "id": "eb372eb3",
      "metadata": {
        "colab": {
          "base_uri": "https://localhost:8080/",
          "height": 175
        },
        "id": "eb372eb3",
        "outputId": "b015b49c-d754-4d24-b8b8-c28ab68a05e2"
      },
      "outputs": [
        {
          "output_type": "error",
          "ename": "TypeError",
          "evalue": "Course() takes no arguments",
          "traceback": [
            "\u001b[0;31m---------------------------------------------------------------------------\u001b[0m",
            "\u001b[0;31mTypeError\u001b[0m                                 Traceback (most recent call last)",
            "\u001b[0;32m<ipython-input-11-e88f5f018058>\u001b[0m in \u001b[0;36m<cell line: 1>\u001b[0;34m()\u001b[0m\n\u001b[0;32m----> 1\u001b[0;31m \u001b[0mc\u001b[0m\u001b[0;34m=\u001b[0m\u001b[0mCourse\u001b[0m\u001b[0;34m(\u001b[0m\u001b[0;34m\"Data_Sceince\"\u001b[0m\u001b[0;34m,\u001b[0m\u001b[0;36m3500\u001b[0m\u001b[0;34m)\u001b[0m\u001b[0;34m\u001b[0m\u001b[0;34m\u001b[0m\u001b[0m\n\u001b[0m",
            "\u001b[0;31mTypeError\u001b[0m: Course() takes no arguments"
          ]
        }
      ],
      "source": [
        "c=Course(\"Data_Sceince\",3500)"
      ]
    },
    {
      "cell_type": "markdown",
      "id": "a812356f",
      "metadata": {
        "id": "a812356f"
      },
      "source": [
        "#### Without init we can not assign arguments to our class"
      ]
    },
    {
      "cell_type": "markdown",
      "id": "ac8d6387",
      "metadata": {
        "id": "ac8d6387"
      },
      "source": [
        "### Q4. Why self is used in OOPs?"
      ]
    },
    {
      "cell_type": "markdown",
      "id": "7e740418",
      "metadata": {
        "id": "7e740418"
      },
      "source": [
        "self represents the instance of the class. By using the “self”  we can access the attributes and methods of the class in python. It binds the attributes with the given arguments.\n",
        "It does not have to be named self , we can call it whatever we  like, but it has to be the first parameter of any function in the class\n"
      ]
    },
    {
      "cell_type": "markdown",
      "id": "94a2929f",
      "metadata": {
        "id": "94a2929f"
      },
      "source": [
        "### Q5. What is inheritance? Give an example for each type of inheritance."
      ]
    },
    {
      "cell_type": "markdown",
      "id": "e541566d",
      "metadata": {
        "id": "e541566d"
      },
      "source": [
        "Inheritance is a fundamental concept in object-oriented programming (OOP) that allows a class to inherit properties and behaviors from another class. The class that inherits properties and behaviors is called the subclass or derived class, and the class that provides those properties and behaviors is called the superclass or base class."
      ]
    },
    {
      "cell_type": "markdown",
      "id": "d4dd9cbb",
      "metadata": {
        "id": "d4dd9cbb"
      },
      "source": [
        "#### Multilayer inheritance\n",
        "in this inheritance if we have 3 class if 2nd class inherit property of 1st class 3rd class inherit property of 2nd class than also 3rd class inherit property of 1st class it is called multilayer inheritence"
      ]
    },
    {
      "cell_type": "code",
      "execution_count": 12,
      "id": "8752c99b",
      "metadata": {
        "id": "8752c99b"
      },
      "outputs": [],
      "source": [
        "class transport:\n",
        "    def __init__(self,name,Type):\n",
        "        self.name=name\n",
        "        self.Type=Type\n",
        "    def details1(self):\n",
        "        print(self.name,self.Type)\n",
        ""
      ]
    },
    {
      "cell_type": "code",
      "execution_count": 13,
      "id": "b2504379",
      "metadata": {
        "id": "b2504379"
      },
      "outputs": [],
      "source": [
        "class commercial_transport(transport):\n",
        "    def details2(self):\n",
        "        print(\"This is the details of commercial transport\")"
      ]
    },
    {
      "cell_type": "code",
      "execution_count": 14,
      "id": "7adaac0c",
      "metadata": {
        "id": "7adaac0c"
      },
      "outputs": [],
      "source": [
        "ct=commercial_transport(\"Truck\",\"HMV\")"
      ]
    },
    {
      "cell_type": "code",
      "execution_count": 15,
      "id": "ecc27113",
      "metadata": {
        "colab": {
          "base_uri": "https://localhost:8080/"
        },
        "id": "ecc27113",
        "outputId": "bf30b1c6-0ed3-42f0-8cba-eb6235925b17"
      },
      "outputs": [
        {
          "output_type": "stream",
          "name": "stdout",
          "text": [
            "Truck HMV\n"
          ]
        }
      ],
      "source": [
        "ct.details1()"
      ]
    },
    {
      "cell_type": "code",
      "execution_count": 16,
      "id": "7e16e47a",
      "metadata": {
        "colab": {
          "base_uri": "https://localhost:8080/"
        },
        "id": "7e16e47a",
        "outputId": "34691078-a745-451b-8856-6b69e75980dd"
      },
      "outputs": [
        {
          "output_type": "stream",
          "name": "stdout",
          "text": [
            "This is the details of commercial transport\n"
          ]
        }
      ],
      "source": [
        "ct.details2()"
      ]
    },
    {
      "cell_type": "code",
      "execution_count": 17,
      "id": "08e2d14f",
      "metadata": {
        "colab": {
          "base_uri": "https://localhost:8080/",
          "height": 35
        },
        "id": "08e2d14f",
        "outputId": "0e5e9bb6-4117-4a2e-ead6-e752e84447b8"
      },
      "outputs": [
        {
          "output_type": "execute_result",
          "data": {
            "text/plain": [
              "'Truck'"
            ],
            "application/vnd.google.colaboratory.intrinsic+json": {
              "type": "string"
            }
          },
          "metadata": {},
          "execution_count": 17
        }
      ],
      "source": [
        "ct.name"
      ]
    },
    {
      "cell_type": "code",
      "execution_count": 18,
      "id": "60e1bd9f",
      "metadata": {
        "id": "60e1bd9f"
      },
      "outputs": [],
      "source": [
        "class private_transport(commercial_transport):\n",
        "    def details3(self):\n",
        "        print(\"This is the details of private transport\")"
      ]
    },
    {
      "cell_type": "code",
      "execution_count": 19,
      "id": "852ba12e",
      "metadata": {
        "id": "852ba12e"
      },
      "outputs": [],
      "source": [
        "ct=private_transport(\"Bike\",\"LMV\")"
      ]
    },
    {
      "cell_type": "code",
      "execution_count": 20,
      "id": "0e582186",
      "metadata": {
        "colab": {
          "base_uri": "https://localhost:8080/"
        },
        "id": "0e582186",
        "outputId": "582b3017-a756-4f9d-941c-b83a719a22f1"
      },
      "outputs": [
        {
          "output_type": "stream",
          "name": "stdout",
          "text": [
            "Bike LMV\n"
          ]
        }
      ],
      "source": [
        "ct.details1()"
      ]
    },
    {
      "cell_type": "code",
      "execution_count": 21,
      "id": "799100f1",
      "metadata": {
        "colab": {
          "base_uri": "https://localhost:8080/"
        },
        "id": "799100f1",
        "outputId": "89977c28-ffaf-40b8-9619-36f393295861"
      },
      "outputs": [
        {
          "output_type": "stream",
          "name": "stdout",
          "text": [
            "This is the details of commercial transport\n"
          ]
        }
      ],
      "source": [
        "ct.details2()"
      ]
    },
    {
      "cell_type": "code",
      "execution_count": 22,
      "id": "959da08a",
      "metadata": {
        "colab": {
          "base_uri": "https://localhost:8080/"
        },
        "id": "959da08a",
        "outputId": "d18ee3d9-e81f-42b8-97c7-3cff1009ba4b"
      },
      "outputs": [
        {
          "output_type": "stream",
          "name": "stdout",
          "text": [
            "This is the details of private transport\n"
          ]
        }
      ],
      "source": [
        "ct.details3()"
      ]
    },
    {
      "cell_type": "code",
      "execution_count": 23,
      "id": "eaa4ec96",
      "metadata": {
        "colab": {
          "base_uri": "https://localhost:8080/",
          "height": 35
        },
        "id": "eaa4ec96",
        "outputId": "4300a12f-e76b-4a93-d9ea-64813e9b828a"
      },
      "outputs": [
        {
          "output_type": "execute_result",
          "data": {
            "text/plain": [
              "'LMV'"
            ],
            "application/vnd.google.colaboratory.intrinsic+json": {
              "type": "string"
            }
          },
          "metadata": {},
          "execution_count": 23
        }
      ],
      "source": [
        "ct.Type"
      ]
    },
    {
      "cell_type": "markdown",
      "id": "ac21ac2a",
      "metadata": {
        "id": "ac21ac2a"
      },
      "source": [
        "#### if we not inherit the property we have to create a constructor again"
      ]
    },
    {
      "cell_type": "code",
      "execution_count": 24,
      "id": "36ef1f53",
      "metadata": {
        "id": "36ef1f53"
      },
      "outputs": [],
      "source": [
        "class commercial_transport():\n",
        "    def details(self):\n",
        "        print(\"This is the details of commercial transport\")"
      ]
    },
    {
      "cell_type": "code",
      "execution_count": 26,
      "id": "759fd8bc",
      "metadata": {
        "colab": {
          "base_uri": "https://localhost:8080/",
          "height": 175
        },
        "id": "759fd8bc",
        "outputId": "8259b968-5a63-401b-8f40-d793daae70cb"
      },
      "outputs": [
        {
          "output_type": "error",
          "ename": "TypeError",
          "evalue": "commercial_transport() takes no arguments",
          "traceback": [
            "\u001b[0;31m---------------------------------------------------------------------------\u001b[0m",
            "\u001b[0;31mTypeError\u001b[0m                                 Traceback (most recent call last)",
            "\u001b[0;32m<ipython-input-26-1f20e8b55192>\u001b[0m in \u001b[0;36m<cell line: 1>\u001b[0;34m()\u001b[0m\n\u001b[0;32m----> 1\u001b[0;31m \u001b[0mct\u001b[0m\u001b[0;34m=\u001b[0m\u001b[0mcommercial_transport\u001b[0m\u001b[0;34m(\u001b[0m\u001b[0;34m\"Bike\"\u001b[0m\u001b[0;34m,\u001b[0m\u001b[0;34m\"LMV\"\u001b[0m\u001b[0;34m)\u001b[0m\u001b[0;34m\u001b[0m\u001b[0;34m\u001b[0m\u001b[0m\n\u001b[0m",
            "\u001b[0;31mTypeError\u001b[0m: commercial_transport() takes no arguments"
          ]
        }
      ],
      "source": [
        "ct=commercial_transport(\"Bike\",\"LMV\")"
      ]
    },
    {
      "cell_type": "markdown",
      "id": "f5641165",
      "metadata": {
        "id": "f5641165"
      },
      "source": [
        "#### Multiple inheritence¶\n",
        "in this for eg we have three class class1(father) ,class2(mother),class3(child) and we inherit the property of class1 and class 2 directly to class3"
      ]
    },
    {
      "cell_type": "code",
      "execution_count": 27,
      "id": "f5478c8e",
      "metadata": {
        "id": "f5478c8e"
      },
      "outputs": [],
      "source": [
        "class transport:\n",
        "    def __init__(self,name,Type):\n",
        "        self.name=name\n",
        "        self.Type=Type\n",
        "    def details1(self):\n",
        "        print(self.name,self.Type)\n",
        ""
      ]
    },
    {
      "cell_type": "code",
      "execution_count": 28,
      "id": "7c99578d",
      "metadata": {
        "id": "7c99578d"
      },
      "outputs": [],
      "source": [
        "class commercial_transport:\n",
        "    def details2(self):\n",
        "        print(\"This is the details of commercial transport\")"
      ]
    },
    {
      "cell_type": "code",
      "execution_count": 29,
      "id": "b6452f89",
      "metadata": {
        "id": "b6452f89"
      },
      "outputs": [],
      "source": [
        "class private_transport(transport,commercial_transport):\n",
        "    def details3(self):\n",
        "        print(\"This is the details of private transport\")"
      ]
    },
    {
      "cell_type": "code",
      "execution_count": 30,
      "id": "75acfa91",
      "metadata": {
        "id": "75acfa91"
      },
      "outputs": [],
      "source": [
        "pt=private_transport(\"Activa\",\"LMV\")"
      ]
    },
    {
      "cell_type": "code",
      "execution_count": 31,
      "id": "e263b60a",
      "metadata": {
        "colab": {
          "base_uri": "https://localhost:8080/"
        },
        "id": "e263b60a",
        "outputId": "c3012157-c482-4e3b-f90d-8d9baca608b8"
      },
      "outputs": [
        {
          "output_type": "stream",
          "name": "stdout",
          "text": [
            "This is the details of private transport\n"
          ]
        }
      ],
      "source": [
        "pt.details3()"
      ]
    },
    {
      "cell_type": "code",
      "execution_count": 32,
      "id": "2addb89e",
      "metadata": {
        "colab": {
          "base_uri": "https://localhost:8080/"
        },
        "id": "2addb89e",
        "outputId": "80da19b6-6d03-48c7-999a-5fbf3b300199"
      },
      "outputs": [
        {
          "output_type": "stream",
          "name": "stdout",
          "text": [
            "This is the details of commercial transport\n"
          ]
        }
      ],
      "source": [
        "pt.details2()"
      ]
    },
    {
      "cell_type": "code",
      "execution_count": 33,
      "id": "751ec48c",
      "metadata": {
        "colab": {
          "base_uri": "https://localhost:8080/"
        },
        "id": "751ec48c",
        "outputId": "376574e8-6f21-4998-b954-53824d98bd10"
      },
      "outputs": [
        {
          "output_type": "stream",
          "name": "stdout",
          "text": [
            "Activa LMV\n"
          ]
        }
      ],
      "source": [
        "pt.details1()"
      ]
    },
    {
      "cell_type": "code",
      "execution_count": 33,
      "id": "6636f7ed",
      "metadata": {
        "id": "6636f7ed"
      },
      "outputs": [],
      "source": []
    }
  ],
  "metadata": {
    "kernelspec": {
      "display_name": "Python 3 (ipykernel)",
      "language": "python",
      "name": "python3"
    },
    "language_info": {
      "codemirror_mode": {
        "name": "ipython",
        "version": 3
      },
      "file_extension": ".py",
      "mimetype": "text/x-python",
      "name": "python",
      "nbconvert_exporter": "python",
      "pygments_lexer": "ipython3",
      "version": "3.9.12"
    },
    "colab": {
      "provenance": []
    }
  },
  "nbformat": 4,
  "nbformat_minor": 5
}