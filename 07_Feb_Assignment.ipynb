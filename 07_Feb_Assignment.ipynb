{
 "cells": [
  {
   "cell_type": "markdown",
   "id": "2c2bcbf4",
   "metadata": {},
   "source": [
    "### Q1. You are writing code for a company. The requirement of the company is that you create a python function that will check whether the password entered by the user is correct or not. The function should take the password as input and return the string “Valid Password” if the entered password follows the below-given password guidelines else it should return “Invalid Password”.\n",
    "Note: 1. The Password should contain at least two uppercase letters and at least two lowercase letters.\n",
    "2. The Password should contain at least a number and three special characters.\n",
    "3. The length of the password should be 10 characters long."
   ]
  },
  {
   "cell_type": "code",
   "execution_count": 120,
   "id": "bc64adc7",
   "metadata": {},
   "outputs": [
    {
     "name": "stdout",
     "output_type": "stream",
     "text": [
      "Enter your password SAk$h@m@m0\n",
      "Valid Password\n"
     ]
    }
   ],
   "source": [
    "def Password(password):\n",
    "    l,u,p,d=0,0,0,0\n",
    "    if len(password)==10:\n",
    "        for i in password:\n",
    "            if (i.islower()):\n",
    "                l+=1\n",
    "                \n",
    "            if (i.isupper()):\n",
    "                u+=1\n",
    "            \n",
    "            if (i.isdigit()):\n",
    "                d+=1\n",
    "            if(i=='@' or i=='$' or i=='#' or i=='%'):\n",
    "                p+=1\n",
    "    if (l>=2 and u>=2 and d>=1 and p==3 and l+p+u+d==len(password)):\n",
    "        print(\"Valid Password\")\n",
    "    \n",
    "    else:\n",
    "        print(\"Invalid Password\")\n",
    "password=input(\"Enter your password \")\n",
    "Password(password)"
   ]
  },
  {
   "cell_type": "markdown",
   "id": "6f1c8cb8",
   "metadata": {},
   "source": [
    "### Q2. Solve the below-given questions using at least one of the following:\n",
    "1. Lambda function\n",
    "2. Filter function\n",
    "3. Map function\n",
    "4. List Comprehension"
   ]
  },
  {
   "cell_type": "code",
   "execution_count": 126,
   "id": "ed241d6c",
   "metadata": {},
   "outputs": [
    {
     "name": "stdout",
     "output_type": "stream",
     "text": [
      "The string start with 'H'.\n"
     ]
    }
   ],
   "source": [
    "##Check if the string starts with a particular letter.\n",
    "s=\"Hii Welcome to Data Science Course\"\n",
    "start=lambda s:True if s.startswith(\"H\") else False\n",
    "if start(s):\n",
    "    print(\"The string start with 'H'.\")\n",
    "else:\n",
    "    print(\"The string does not start with 'H'. \")"
   ]
  },
  {
   "cell_type": "code",
   "execution_count": 138,
   "id": "4d4bde8d",
   "metadata": {},
   "outputs": [
    {
     "data": {
      "text/plain": [
       "False"
      ]
     },
     "execution_count": 138,
     "metadata": {},
     "output_type": "execute_result"
    }
   ],
   "source": [
    "##Check if the string is numeric\n",
    "num=lambda s:True if s.isnumeric() else False\n",
    "num(s)"
   ]
  },
  {
   "cell_type": "code",
   "execution_count": 204,
   "id": "b5754048",
   "metadata": {},
   "outputs": [
    {
     "name": "stdout",
     "output_type": "stream",
     "text": [
      "[('orange', 80), ('mango', 99), ('grapes', 1000)]\n"
     ]
    }
   ],
   "source": [
    "##Sort a list of tuples having fruit names and their quantity. [(\"mango\",99),(\"orange\",80), (\"grapes\", 1000)]\n",
    "t=[(\"mango\",99),(\"orange\",80),(\"grapes\",1000)]\n",
    "sorted_fruits=sorted(t,key=lambda x: x[1])\n",
    "print(sorted_fruits)"
   ]
  },
  {
   "cell_type": "code",
   "execution_count": 218,
   "id": "b9674707",
   "metadata": {},
   "outputs": [
    {
     "data": {
      "text/plain": [
       "[1, 4, 9, 16, 25, 36, 49, 64, 81]"
      ]
     },
     "execution_count": 218,
     "metadata": {},
     "output_type": "execute_result"
    }
   ],
   "source": [
    "##Find the squares of numbers from 1 to 10\n",
    "n=range(1,10)\n",
    "list(map(lambda x:x**2,n))"
   ]
  },
  {
   "cell_type": "code",
   "execution_count": 219,
   "id": "f221e191",
   "metadata": {},
   "outputs": [
    {
     "data": {
      "text/plain": [
       "[1, 8, 27, 64, 125, 216, 343, 512, 729]"
      ]
     },
     "execution_count": 219,
     "metadata": {},
     "output_type": "execute_result"
    }
   ],
   "source": [
    "##Find the cube root of numbers from 1 to 10\n",
    "list(map(lambda x:x**3,n))"
   ]
  },
  {
   "cell_type": "code",
   "execution_count": 234,
   "id": "fa056828",
   "metadata": {},
   "outputs": [
    {
     "name": "stdout",
     "output_type": "stream",
     "text": [
      "Enter your number:- 24\n"
     ]
    },
    {
     "data": {
      "text/plain": [
       "['even']"
      ]
     },
     "execution_count": 234,
     "metadata": {},
     "output_type": "execute_result"
    }
   ],
   "source": [
    "##Check if a given number is even\n",
    "l=int(input(\"Enter your number:- \"))\n",
    "['even' if l%2==0 else 'odd' ]"
   ]
  },
  {
   "cell_type": "code",
   "execution_count": 241,
   "id": "09f6effb",
   "metadata": {},
   "outputs": [
    {
     "data": {
      "text/plain": [
       "[1, 3, 5, 7, 9]"
      ]
     },
     "execution_count": 241,
     "metadata": {},
     "output_type": "execute_result"
    }
   ],
   "source": [
    "##Filter odd numbers from the given list.\n",
    "l=[1,2,3,4,5,6,7,8,9,10]\n",
    "list(filter(lambda x:x%2!=0,l ))\n"
   ]
  },
  {
   "cell_type": "code",
   "execution_count": 252,
   "id": "2818741f",
   "metadata": {},
   "outputs": [
    {
     "name": "stdout",
     "output_type": "stream",
     "text": [
      "Positive list:-  [1, 2, 3, 4, 5, 6]\n",
      "Negative list:-  [-1, -2, -3, -4, -5]\n"
     ]
    }
   ],
   "source": [
    "#Sort a list of integers into positive and negative integers lists.\n",
    "l=[1,2,3,4,5,6,-1,-2,-3,-4,-5,0]\n",
    "positive_list=list(filter(lambda x:x>0,l))\n",
    "negative_list=list(filter(lambda x:x<0,l))\n",
    "\n",
    "print(\"Positive list:- \", positive_list)\n",
    "print(\"Negative list:- \", negative_list)"
   ]
  },
  {
   "cell_type": "code",
   "execution_count": null,
   "id": "579330b2",
   "metadata": {},
   "outputs": [],
   "source": []
  }
 ],
 "metadata": {
  "kernelspec": {
   "display_name": "Python 3 (ipykernel)",
   "language": "python",
   "name": "python3"
  },
  "language_info": {
   "codemirror_mode": {
    "name": "ipython",
    "version": 3
   },
   "file_extension": ".py",
   "mimetype": "text/x-python",
   "name": "python",
   "nbconvert_exporter": "python",
   "pygments_lexer": "ipython3",
   "version": "3.9.12"
  }
 },
 "nbformat": 4,
 "nbformat_minor": 5
}
