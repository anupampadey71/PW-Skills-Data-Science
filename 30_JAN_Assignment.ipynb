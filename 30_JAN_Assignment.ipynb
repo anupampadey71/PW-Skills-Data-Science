{
  "cells": [
    {
      "cell_type": "markdown",
      "id": "6b4edcc3",
      "metadata": {
        "id": "6b4edcc3"
      },
      "source": [
        "### 1.Write a program to accept percentage from the user and display the grade according to the given criteria:"
      ]
    },
    {
      "cell_type": "code",
      "execution_count": 1,
      "id": "30d313ea",
      "metadata": {
        "colab": {
          "base_uri": "https://localhost:8080/"
        },
        "id": "30d313ea",
        "outputId": "608c8d0f-fe12-4595-ca33-fde86551549d"
      },
      "outputs": [
        {
          "output_type": "stream",
          "name": "stdout",
          "text": [
            "Enter your Percentage:- 85\n",
            "Your Grade is B\n"
          ]
        }
      ],
      "source": [
        "Marks=int(input(\"Enter your Percentage:- \"))\n",
        "if Marks>90:\n",
        "    print(\"Your Grade is A\")\n",
        "elif Marks>80 and Marks<=90:\n",
        "    print(\"Your Grade is B\")\n",
        "elif Marks>=60 and Marks<=80:\n",
        "    print(\"Your Grade is C\")\n",
        "else:\n",
        "    print(\"Your Grade is D\")"
      ]
    },
    {
      "cell_type": "markdown",
      "id": "611f2f9f",
      "metadata": {
        "id": "611f2f9f"
      },
      "source": [
        "### 2. Write a program to accept the cost price of a bike and display the road tax to paid according to the following criteria:-"
      ]
    },
    {
      "cell_type": "code",
      "execution_count": 2,
      "id": "e59580f9",
      "metadata": {
        "colab": {
          "base_uri": "https://localhost:8080/"
        },
        "id": "e59580f9",
        "outputId": "d68714c0-a53b-4e42-a424-2665ad04c5cc"
      },
      "outputs": [
        {
          "output_type": "stream",
          "name": "stdout",
          "text": [
            "Please enter the price of your bike:-65000\n",
            "You have to paid 10% road tax\n"
          ]
        }
      ],
      "source": [
        "cost=int(input(\"Please enter the price of your bike:-\"))\n",
        "if cost > 100000:\n",
        "\n",
        "    print(\"You have to paid 15% road tax\")\n",
        "elif cost > 50000 and cost<=100000:\n",
        "    print(\"You have to paid 10% road tax\")\n",
        "else:\n",
        "    print(\"You have to paid 5% road tax\")"
      ]
    },
    {
      "cell_type": "markdown",
      "id": "77d4bb17",
      "metadata": {
        "id": "77d4bb17"
      },
      "source": [
        "### 3. Accept any city from the user and display monuments of that city."
      ]
    },
    {
      "cell_type": "code",
      "execution_count": 3,
      "id": "07b4421e",
      "metadata": {
        "colab": {
          "base_uri": "https://localhost:8080/"
        },
        "id": "07b4421e",
        "outputId": "a643612f-efd2-43f6-9fa6-60fb9da4ea70"
      },
      "outputs": [
        {
          "output_type": "stream",
          "name": "stdout",
          "text": [
            "Please enter your city:- Jaipur\n",
            "Jal Mahal\n"
          ]
        }
      ],
      "source": [
        "city=str(input(\"Please enter your city:- \"))\n",
        "if city == \"Delhi\":\n",
        "    print(\"Red Fort\")\n",
        "elif city == \"Agra\":\n",
        "    print(\"Taj Mahal\")\n",
        "elif city ==\"Jaipur\":\n",
        "    print(\"Jal Mahal\")"
      ]
    },
    {
      "cell_type": "markdown",
      "id": "ecb1817e",
      "metadata": {
        "id": "ecb1817e"
      },
      "source": [
        "### 4. Check how many times a given number can be divided by 3 before it is less than or equal to 10"
      ]
    },
    {
      "cell_type": "code",
      "execution_count": 4,
      "id": "1b11fea3",
      "metadata": {
        "colab": {
          "base_uri": "https://localhost:8080/"
        },
        "id": "1b11fea3",
        "outputId": "183b0582-36ee-44dc-f596-af4345c7fc8b"
      },
      "outputs": [
        {
          "output_type": "execute_result",
          "data": {
            "text/plain": [
              "4"
            ]
          },
          "metadata": {},
          "execution_count": 4
        }
      ],
      "source": [
        "count=0\n",
        "for i in range(0,11):\n",
        "    if i%3==0:\n",
        "        count=count+1\n",
        "\n",
        "count"
      ]
    },
    {
      "cell_type": "markdown",
      "id": "a7ddb0d0",
      "metadata": {
        "id": "a7ddb0d0"
      },
      "source": [
        "### 5.Why and when to use while loop in python give a detailed description with example"
      ]
    },
    {
      "cell_type": "markdown",
      "id": "ffea6f5c",
      "metadata": {
        "id": "ffea6f5c"
      },
      "source": [
        "we use while loop in python when we have to repeat a block of code for an indefinite number of times until a specific  conditions is met.\n",
        "The condition is evaluated before each iteration of the loop. If the condition is true, the loop body is executed and the condition is re-evaluated. If the condition is still true, the loop body is executed again and the condition is re-evaluated.this process continues until the condition becomes false\n",
        "eg:-"
      ]
    },
    {
      "cell_type": "code",
      "execution_count": 5,
      "id": "8b063ac5",
      "metadata": {
        "colab": {
          "base_uri": "https://localhost:8080/"
        },
        "id": "8b063ac5",
        "outputId": "2b5fda45-db09-415e-abe5-284aa4cb0210"
      },
      "outputs": [
        {
          "output_type": "stream",
          "name": "stdout",
          "text": [
            "10\n",
            "9\n",
            "8\n",
            "7\n",
            "6\n",
            "5\n",
            "4\n",
            "3\n",
            "2\n",
            "1\n"
          ]
        }
      ],
      "source": [
        "n=10\n",
        "while n>0:\n",
        "    print(n)\n",
        "    n=n-1\n",
        ""
      ]
    },
    {
      "cell_type": "markdown",
      "id": "e843fcff",
      "metadata": {
        "id": "e843fcff"
      },
      "source": [
        "### 6.use nested while loop to print 3 different pattern"
      ]
    },
    {
      "cell_type": "code",
      "execution_count": 6,
      "id": "4242f016",
      "metadata": {
        "colab": {
          "base_uri": "https://localhost:8080/"
        },
        "id": "4242f016",
        "outputId": "12215cb4-2d52-49f8-8edb-dcbcae853f64"
      },
      "outputs": [
        {
          "output_type": "stream",
          "name": "stdout",
          "text": [
            "Enter the number:- 5\n",
            "*\n",
            "**\n",
            "***\n",
            "****\n",
            "*****\n"
          ]
        }
      ],
      "source": [
        "value=int(input(\"Enter the number:- \"))\n",
        "i=1\n",
        "while i<=value:\n",
        "    j=1\n",
        "    while j<=i:\n",
        "        print('*',end='')\n",
        "        j=j+1\n",
        "    print()\n",
        "    i=i+1"
      ]
    },
    {
      "cell_type": "code",
      "execution_count": 7,
      "id": "263b3674",
      "metadata": {
        "colab": {
          "base_uri": "https://localhost:8080/"
        },
        "id": "263b3674",
        "outputId": "4eae4e58-24e6-40b4-c410-1fb9b671412c"
      },
      "outputs": [
        {
          "output_type": "stream",
          "name": "stdout",
          "text": [
            "Enter the number:- 5\n",
            "        * \n",
            "      * * \n",
            "    * * * \n",
            "  * * * * \n",
            "* * * * * \n"
          ]
        }
      ],
      "source": [
        "value=int(input(\"Enter the number:- \"))\n",
        "i=1\n",
        "while i<=value:\n",
        "    s=1\n",
        "    while s<=value-i:\n",
        "        print(\" \",end=\" \")\n",
        "        s=s+1\n",
        "    j=1\n",
        "    while j<=i:\n",
        "        print('*',end=' ')\n",
        "        j=j+1\n",
        "    print()\n",
        "    i=i+1"
      ]
    },
    {
      "cell_type": "code",
      "execution_count": 8,
      "id": "89cdeb5a",
      "metadata": {
        "colab": {
          "base_uri": "https://localhost:8080/"
        },
        "id": "89cdeb5a",
        "outputId": "c86f9095-e866-4f2b-9b16-eaf1d44d84ce"
      },
      "outputs": [
        {
          "output_type": "stream",
          "name": "stdout",
          "text": [
            "Enter the number:- 5\n",
            "    * \n",
            "   * * \n",
            "  * * * \n",
            " * * * * \n",
            "* * * * * \n"
          ]
        }
      ],
      "source": [
        "value=int(input(\"Enter the number:- \"))\n",
        "i=1\n",
        "while i<=value:\n",
        "    s=1\n",
        "    while s<=value-i:\n",
        "        print(\" \",end=\"\")\n",
        "        s=s+1\n",
        "    j=1\n",
        "    while j<=i:\n",
        "        print('*',end=' ')\n",
        "        j=j+1\n",
        "    print()\n",
        "    i=i+1"
      ]
    },
    {
      "cell_type": "markdown",
      "id": "6c373abe",
      "metadata": {
        "id": "6c373abe"
      },
      "source": [
        "### 7. Reverse a while loop to display number from 10 to 1"
      ]
    },
    {
      "cell_type": "code",
      "execution_count": 9,
      "id": "5e047593",
      "metadata": {
        "colab": {
          "base_uri": "https://localhost:8080/"
        },
        "id": "5e047593",
        "outputId": "619740ed-7207-462c-aeee-f8b94f089b3d"
      },
      "outputs": [
        {
          "output_type": "stream",
          "name": "stdout",
          "text": [
            "10\n",
            "9\n",
            "8\n",
            "7\n",
            "6\n",
            "5\n",
            "4\n",
            "3\n",
            "2\n",
            "1\n"
          ]
        }
      ],
      "source": [
        "num=10\n",
        "while num>0:\n",
        "    print(num)\n",
        "    num=num-1"
      ]
    },
    {
      "cell_type": "markdown",
      "source": [
        "#7 and 8 question are same"
      ],
      "metadata": {
        "id": "nq29FIPYZGHn"
      },
      "id": "nq29FIPYZGHn"
    }
  ],
  "metadata": {
    "kernelspec": {
      "display_name": "Python 3 (ipykernel)",
      "language": "python",
      "name": "python3"
    },
    "language_info": {
      "codemirror_mode": {
        "name": "ipython",
        "version": 3
      },
      "file_extension": ".py",
      "mimetype": "text/x-python",
      "name": "python",
      "nbconvert_exporter": "python",
      "pygments_lexer": "ipython3",
      "version": "3.9.12"
    },
    "colab": {
      "provenance": []
    }
  },
  "nbformat": 4,
  "nbformat_minor": 5
}