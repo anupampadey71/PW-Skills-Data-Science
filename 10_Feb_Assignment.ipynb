{
 "cells": [
  {
   "cell_type": "markdown",
   "id": "e5a25835",
   "metadata": {},
   "source": [
    "### Q1. Which function is used to open a file? What are the different modes of opening a file? Explain each mode of file opening."
   ]
  },
  {
   "cell_type": "markdown",
   "id": "fe552c0c",
   "metadata": {},
   "source": [
    "In python,the built-in 'open()' function is used to open a file.\n",
    "The open() fxn returns a file object,which can be used to read,write or modify the contents of the file.\n",
    "The open() function takes two arguments: the file path (either a relative or absolute path to the file) and the mode in which the file should be opened. Here are the different modes of opening a file:\n",
    "\n",
    "    \"r\" (read mode): This is the default mode for opening a file. In this mode, the file is opened for reading only, and the file pointer is positioned at the beginning of the file. If the file does not exist, an IOError is raised.\n",
    "\n",
    "    \"w\" (write mode): In this mode, the file is opened for writing only. If the file already exists, its contents are truncated. If the file does not exist, a new file is created.\n",
    "\n",
    "    \"a\" (append mode): In this mode, the file is opened for writing, but new data is appended to the end of the file instead of overwriting its contents. If the file does not exist, a new file is created.\n",
    "\n",
    "    \"x\" (exclusive creation mode): In this mode, the file is opened for writing, but only if it does not already exist. If the file exists, a FileExistsError is raised.\n",
    "\n",
    "    \"b\" (binary mode): This mode is used to read or write binary data to a file. When this mode is used, the data is read or written as bytes rather than as text. For example, when writing to a binary file, the data is written as bytes instead of characters.\n",
    "\n",
    "    \"t\" (text mode): This mode is used to read or write text data to a file. When this mode is used, the data is read or written as characters rather than as bytes.\n",
    "\n",
    "    \"+\" (read/write mode): This mode allows the file to be opened for both reading and writing."
   ]
  },
  {
   "cell_type": "markdown",
   "id": "845f5e75",
   "metadata": {},
   "source": [
    "### Q2. Why close() function is used? Why is it important to close a file?"
   ]
  },
  {
   "cell_type": "markdown",
   "id": "bbb094f7",
   "metadata": {},
   "source": [
    "The close() method closes an open file.\n",
    "we should always close the files, in some cases, due to buffering, changes made to a file may not show until we close the file.\n",
    "It is important to close a file after it has been opened and used because:\n",
    "\n",
    "    Resource management: When a file is opened, system resources such as memory and file descriptors are allocated to the file object. If the file object is not closed properly, these resources may not be released immediately, leading to memory leaks and potential issues with file descriptor limits.\n",
    "\n",
    "    Data consistency: If a file is not closed properly, any data that was written to the file may not be properly saved to disk, leading to data inconsistencies and potential data loss.\n",
    "\n",
    "    File locking: If a file is not closed properly, it may remain locked by the Python program that was using it, preventing other programs from accessing or modifying the file.\n",
    "\n",
    "To ensure that a file is properly closed after it has been used, it is a good practice to use the with statement when opening files. The with statement automatically takes care of closing the file when the block of code inside the with statement is finished executing. For example:"
   ]
  },
  {
   "cell_type": "markdown",
   "id": "0723c022",
   "metadata": {},
   "source": [
    "### Q3. Write a python program to create a text file. Write ‘I want to become a Data Scientist’ in that file. Then close the file. Open this file and read the content of the file."
   ]
  },
  {
   "cell_type": "code",
   "execution_count": 92,
   "id": "99fb2910",
   "metadata": {},
   "outputs": [],
   "source": [
    "Assignment=open('10_feb.txt','w')\n"
   ]
  },
  {
   "cell_type": "code",
   "execution_count": 93,
   "id": "f99d0c25",
   "metadata": {},
   "outputs": [
    {
     "data": {
      "text/plain": [
       "33"
      ]
     },
     "execution_count": 93,
     "metadata": {},
     "output_type": "execute_result"
    }
   ],
   "source": [
    "Assignment.write(\"I want to become a Data Scientist\")"
   ]
  },
  {
   "cell_type": "code",
   "execution_count": 94,
   "id": "ceaae842",
   "metadata": {},
   "outputs": [],
   "source": [
    "Assignment.close()"
   ]
  },
  {
   "cell_type": "code",
   "execution_count": 106,
   "id": "938fd7b0",
   "metadata": {},
   "outputs": [],
   "source": [
    "Assignment=open('10_feb.txt','r')"
   ]
  },
  {
   "cell_type": "code",
   "execution_count": 96,
   "id": "6518566d",
   "metadata": {},
   "outputs": [
    {
     "data": {
      "text/plain": [
       "'I want to become a Data Scientist'"
      ]
     },
     "execution_count": 96,
     "metadata": {},
     "output_type": "execute_result"
    }
   ],
   "source": [
    "Assignment.read()"
   ]
  },
  {
   "cell_type": "markdown",
   "id": "7719ba35",
   "metadata": {},
   "source": [
    "### Q4. Explain the following with python code: read(), readline() and readlines()."
   ]
  },
  {
   "cell_type": "markdown",
   "id": "4a572afd",
   "metadata": {},
   "source": [
    "##### read() method:\n",
    "The read() method is used to read the entire contents of a file as a string. When read() is called, the entire contents of the file are read and returned as a string."
   ]
  },
  {
   "cell_type": "code",
   "execution_count": 107,
   "id": "0e71c0c3",
   "metadata": {},
   "outputs": [
    {
     "data": {
      "text/plain": [
       "'I want to become a Data ScientistPython is the best programming language in the world in 2020.\\nPython programming is as easy as writing a program in simple English language'"
      ]
     },
     "execution_count": 107,
     "metadata": {},
     "output_type": "execute_result"
    }
   ],
   "source": [
    "Assignment.read()"
   ]
  },
  {
   "cell_type": "code",
   "execution_count": 99,
   "id": "89f2db54",
   "metadata": {},
   "outputs": [],
   "source": [
    "Assignment=open('10_feb.txt','a')"
   ]
  },
  {
   "cell_type": "code",
   "execution_count": 100,
   "id": "9fc0c014",
   "metadata": {},
   "outputs": [
    {
     "data": {
      "text/plain": [
       "139"
      ]
     },
     "execution_count": 100,
     "metadata": {},
     "output_type": "execute_result"
    }
   ],
   "source": [
    "Assignment.write(\"Python is the best programming language in the world in 2020.\\n\"\n",
    "                \"Python programming is as easy as writing a program in simple English language\")"
   ]
  },
  {
   "cell_type": "code",
   "execution_count": 101,
   "id": "579ba699",
   "metadata": {},
   "outputs": [],
   "source": [
    "Assignment.close()"
   ]
  },
  {
   "cell_type": "markdown",
   "id": "c365f9df",
   "metadata": {},
   "source": [
    "##### readline() method:\n",
    "The readline() method is used to read a single line from a file. Each time readline() is called, it reads the next line of the file and returns it as a string."
   ]
  },
  {
   "cell_type": "code",
   "execution_count": 102,
   "id": "521d17f2",
   "metadata": {},
   "outputs": [],
   "source": [
    "Assignment=open('10_feb.txt','r')"
   ]
  },
  {
   "cell_type": "code",
   "execution_count": 103,
   "id": "10b9db4b",
   "metadata": {},
   "outputs": [
    {
     "data": {
      "text/plain": [
       "'I want to become a Data ScientistPython is the best programming language in the world in 2020.\\n'"
      ]
     },
     "execution_count": 103,
     "metadata": {},
     "output_type": "execute_result"
    }
   ],
   "source": [
    "Assignment.readline()"
   ]
  },
  {
   "cell_type": "markdown",
   "id": "2ea72aa7",
   "metadata": {},
   "source": [
    "##### readlines() method:\n",
    "The readlines() method is used to read all the lines of a file and return them as a list of strings. Each string in the list represents a single line from the file."
   ]
  },
  {
   "cell_type": "code",
   "execution_count": 104,
   "id": "3591b997",
   "metadata": {},
   "outputs": [],
   "source": [
    "Assignment=open('10_feb.txt','r')"
   ]
  },
  {
   "cell_type": "code",
   "execution_count": 105,
   "id": "c4c5636e",
   "metadata": {},
   "outputs": [
    {
     "data": {
      "text/plain": [
       "['I want to become a Data ScientistPython is the best programming language in the world in 2020.\\n',\n",
       " 'Python programming is as easy as writing a program in simple English language']"
      ]
     },
     "execution_count": 105,
     "metadata": {},
     "output_type": "execute_result"
    }
   ],
   "source": [
    "Assignment.readlines()"
   ]
  },
  {
   "cell_type": "markdown",
   "id": "33556b41",
   "metadata": {},
   "source": [
    "### Q5. Explain why with statement is used with open(). What is the advantage of using with statement and open() together?"
   ]
  },
  {
   "cell_type": "markdown",
   "id": "0c1fb1e9",
   "metadata": {},
   "source": [
    "The with statement is used with the open() function in Python to ensure that a file is properly closed after it has been used in a program. The with statement creates a context in which the file is opened, used, and automatically closed once the block of code inside the with statement is finished executing.\n",
    "\n",
    "\n",
    "The advantage of using the with statement with open() function is that it automatically takes care of closing the file when it is no longer needed, even if an error occurs during the execution of the program. This is particularly important when working with files, as failing to close a file can result in resource leaks, data inconsistencies, and potential data loss."
   ]
  },
  {
   "cell_type": "code",
   "execution_count": 119,
   "id": "7c0fa5db",
   "metadata": {},
   "outputs": [],
   "source": [
    "with open('10_feb.txt','w') as f:\n",
    "    data=f.write(\"Hii , Hello\")\n",
    "    ## no need to close the file\n",
    "    "
   ]
  },
  {
   "cell_type": "code",
   "execution_count": 120,
   "id": "a47469ce",
   "metadata": {},
   "outputs": [],
   "source": [
    "Assignment=open('10_feb.txt','r')"
   ]
  },
  {
   "cell_type": "code",
   "execution_count": 121,
   "id": "fe34be4f",
   "metadata": {},
   "outputs": [
    {
     "data": {
      "text/plain": [
       "['Hii , Hello']"
      ]
     },
     "execution_count": 121,
     "metadata": {},
     "output_type": "execute_result"
    }
   ],
   "source": [
    "Assignment.readlines()"
   ]
  },
  {
   "cell_type": "markdown",
   "id": "fff266fd",
   "metadata": {},
   "source": [
    "### Q6. Explain the write() and writelines() functions. Give a suitable example."
   ]
  },
  {
   "cell_type": "markdown",
   "id": "6818034a",
   "metadata": {},
   "source": [
    "In Python, the write() and writelines() functions are used to write data to a file. "
   ]
  },
  {
   "cell_type": "markdown",
   "id": "2a7168fb",
   "metadata": {},
   "source": [
    "#### write() function:\n",
    "The write() function is used to write a string to a file. When write() is called, the specified string is written to the file."
   ]
  },
  {
   "cell_type": "code",
   "execution_count": 135,
   "id": "30a0473e",
   "metadata": {},
   "outputs": [],
   "source": [
    "with open('10_feb.txt','w') as f:\n",
    "    f.write('This is an example of the write function\\n')"
   ]
  },
  {
   "cell_type": "code",
   "execution_count": 136,
   "id": "4143577c",
   "metadata": {},
   "outputs": [],
   "source": [
    "Assignment=open('10_feb.txt','r')"
   ]
  },
  {
   "cell_type": "code",
   "execution_count": 137,
   "id": "6f863e0b",
   "metadata": {},
   "outputs": [
    {
     "data": {
      "text/plain": [
       "'This is an example of the write function\\n'"
      ]
     },
     "execution_count": 137,
     "metadata": {},
     "output_type": "execute_result"
    }
   ],
   "source": [
    "Assignment.read()"
   ]
  },
  {
   "cell_type": "markdown",
   "id": "95f7bd51",
   "metadata": {},
   "source": [
    "#### writelines() function:\n",
    "The writelines() function is used to write a list of strings to a file. Each string in the list represents a single line to be written to the file."
   ]
  },
  {
   "cell_type": "code",
   "execution_count": 138,
   "id": "17cdff0e",
   "metadata": {},
   "outputs": [],
   "source": [
    "with open('10_feb.txt','w') as f:\n",
    "    lines=['This is line 1\\n','This is line 2\\n' , 'This is line 3\\n']\n",
    "    f.writelines(lines)"
   ]
  },
  {
   "cell_type": "code",
   "execution_count": 139,
   "id": "49768049",
   "metadata": {},
   "outputs": [
    {
     "name": "stdout",
     "output_type": "stream",
     "text": [
      "This is line 1\n",
      "This is line 2\n",
      "This is line 3\n",
      "\n"
     ]
    }
   ],
   "source": [
    "with open('10_feb.txt','r') as f:\n",
    "    print(f.read())"
   ]
  },
  {
   "cell_type": "code",
   "execution_count": null,
   "id": "3dc1320d",
   "metadata": {},
   "outputs": [],
   "source": []
  }
 ],
 "metadata": {
  "kernelspec": {
   "display_name": "Python 3 (ipykernel)",
   "language": "python",
   "name": "python3"
  },
  "language_info": {
   "codemirror_mode": {
    "name": "ipython",
    "version": 3
   },
   "file_extension": ".py",
   "mimetype": "text/x-python",
   "name": "python",
   "nbconvert_exporter": "python",
   "pygments_lexer": "ipython3",
   "version": "3.9.12"
  }
 },
 "nbformat": 4,
 "nbformat_minor": 5
}
