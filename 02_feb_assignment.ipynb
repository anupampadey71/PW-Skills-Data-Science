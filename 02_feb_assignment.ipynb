{
  "cells": [
    {
      "cell_type": "markdown",
      "id": "6c8ee1e9",
      "metadata": {
        "id": "6c8ee1e9"
      },
      "source": [
        "### 1.Explain with an example each when to use a for loop and a while loop"
      ]
    },
    {
      "cell_type": "markdown",
      "id": "ca5057d6",
      "metadata": {
        "id": "ca5057d6"
      },
      "source": [
        "we use while loop when we have to iterate over a function through certain conditions or we don't know how much time we have to iterate.In while loop when our condition fails our loop stop working"
      ]
    },
    {
      "cell_type": "code",
      "execution_count": 1,
      "id": "708a182a",
      "metadata": {
        "colab": {
          "base_uri": "https://localhost:8080/"
        },
        "id": "708a182a",
        "outputId": "f9af8b6a-38a3-40bc-b94e-5f701ae1eb6d"
      },
      "outputs": [
        {
          "output_type": "stream",
          "name": "stdout",
          "text": [
            "Enter your name:- Anupam \n",
            "Plz enter the number how much time you print your name:- 7\n",
            "Anupam \n",
            "Anupam \n",
            "Anupam \n",
            "Anupam \n",
            "Anupam \n",
            "Anupam \n",
            "Anupam \n"
          ]
        }
      ],
      "source": [
        "n=input(\"Enter your name:- \")\n",
        "num=int(input(\"Plz enter the number how much time you print your name:- \"))\n",
        "while num>0:\n",
        "    print(n)\n",
        "    num=num-1"
      ]
    },
    {
      "cell_type": "markdown",
      "id": "a3f8859c",
      "metadata": {
        "id": "a3f8859c"
      },
      "source": [
        "we use for loop when we have to iterate over a range or we use for loop when we know the how much time we have to iterate over loop"
      ]
    },
    {
      "cell_type": "code",
      "execution_count": 2,
      "id": "8526949e",
      "metadata": {
        "colab": {
          "base_uri": "https://localhost:8080/"
        },
        "id": "8526949e",
        "outputId": "634e5167-5379-4b69-d2ba-7f1cd2593ce4"
      },
      "outputs": [
        {
          "output_type": "stream",
          "name": "stdout",
          "text": [
            "Saksham\n",
            "Saksham\n",
            "Saksham\n",
            "Saksham\n",
            "Saksham\n"
          ]
        }
      ],
      "source": [
        "for i in range(5):\n",
        "    print(\"Saksham\")"
      ]
    },
    {
      "cell_type": "markdown",
      "id": "5640676a",
      "metadata": {
        "id": "5640676a"
      },
      "source": [
        "### 2. way to print the sum and product of the first 10 natural number using for and while"
      ]
    },
    {
      "cell_type": "markdown",
      "id": "28486ef3",
      "metadata": {
        "id": "28486ef3"
      },
      "source": [
        "### for loop"
      ]
    },
    {
      "cell_type": "code",
      "execution_count": 3,
      "id": "724ba1f7",
      "metadata": {
        "colab": {
          "base_uri": "https://localhost:8080/"
        },
        "id": "724ba1f7",
        "outputId": "3663bf4e-99a3-4552-e2ae-17bc3ea48f94"
      },
      "outputs": [
        {
          "output_type": "stream",
          "name": "stdout",
          "text": [
            "The sum of the first 10 natural number is: 55\n",
            "The sum of the first 10 natural number is: 3628800\n"
          ]
        }
      ],
      "source": [
        "l=[1,2,3,4,5,6,7,8,9,10]\n",
        "addition =0\n",
        "product =1\n",
        "for i in l:\n",
        "    addition=addition+i\n",
        "    product=product*i\n",
        "\n",
        "print(\"The sum of the first 10 natural number is:\" ,addition)\n",
        "print(\"The sum of the first 10 natural number is:\" ,product)\n",
        "\n",
        "\n",
        "\n"
      ]
    },
    {
      "cell_type": "markdown",
      "id": "585ec97a",
      "metadata": {
        "id": "585ec97a"
      },
      "source": [
        "### While loop"
      ]
    },
    {
      "cell_type": "code",
      "execution_count": 4,
      "id": "cb588f67",
      "metadata": {
        "colab": {
          "base_uri": "https://localhost:8080/"
        },
        "id": "cb588f67",
        "outputId": "81f32648-2b3e-42d2-bac5-b5f49a49141b"
      },
      "outputs": [
        {
          "output_type": "stream",
          "name": "stdout",
          "text": [
            "The sum of the first 10 natural number is: 55\n",
            "The sum of the first 10 natural number is: 3628800\n"
          ]
        }
      ],
      "source": [
        "addition=0\n",
        "product=1\n",
        "i=1\n",
        "while i<=10:\n",
        "    addition+=i\n",
        "    product*=i\n",
        "    i+=1\n",
        "print(\"The sum of the first 10 natural number is:\" ,addition)\n",
        "print(\"The sum of the first 10 natural number is:\" ,product)"
      ]
    },
    {
      "cell_type": "markdown",
      "id": "6c8143e3",
      "metadata": {
        "id": "6c8143e3"
      },
      "source": [
        "### Q3 Way to compute electricity bill for a household."
      ]
    },
    {
      "cell_type": "code",
      "execution_count": 5,
      "id": "041988b2",
      "metadata": {
        "colab": {
          "base_uri": "https://localhost:8080/"
        },
        "id": "041988b2",
        "outputId": "7609743c-79f4-403a-8fff-5dcbf41bc82f"
      },
      "outputs": [
        {
          "output_type": "stream",
          "name": "stdout",
          "text": [
            "Enter your units of electricity consumed in a month:- 212\n",
            "Your electricity bill is  1170.0\n"
          ]
        }
      ],
      "source": [
        "unit=int(input(\"Enter your units of electricity consumed in a month:- \"))\n",
        "amount=0\n",
        "if unit<=100:\n",
        "    amount=unit*4.5\n",
        "elif unit<=200:\n",
        "    amount=100*4.5+(unit-100)*6\n",
        "elif unit <=300:\n",
        "    amount=100*4.5+100*6+(unit-200)*10\n",
        "else:\n",
        "    amount=100*4.5+100*6+100*10+(unit-300)*20\n",
        "\n",
        "print(\"Your electricity bill is \", amount)\n",
        "\n",
        "\n",
        "\n",
        "\n",
        ""
      ]
    },
    {
      "cell_type": "markdown",
      "id": "b1b3400f",
      "metadata": {
        "id": "b1b3400f"
      },
      "source": [
        "### 4. Create a list of number from 1 to 100 .use for loop and while loop to calculate the cube of each number and if the cube of that number is divisible by 4 or 5 then append that number in a list and print that list."
      ]
    },
    {
      "cell_type": "markdown",
      "id": "dd79f5e5",
      "metadata": {
        "id": "dd79f5e5"
      },
      "source": [
        "### by using for loop"
      ]
    },
    {
      "cell_type": "code",
      "execution_count": 6,
      "id": "fdb5b438",
      "metadata": {
        "colab": {
          "base_uri": "https://localhost:8080/"
        },
        "id": "fdb5b438",
        "outputId": "7c968a83-2e77-4c5d-cb4b-cfee333a991a"
      },
      "outputs": [
        {
          "output_type": "stream",
          "name": "stdout",
          "text": [
            "[2, 4, 5, 6, 8, 10, 12, 14, 15, 16, 18, 20, 22, 24, 25, 26, 28, 30, 32, 34, 35, 36, 38, 40, 42, 44, 45, 46, 48, 50, 52, 54, 55, 56, 58, 60, 62, 64, 65, 66, 68, 70, 72, 74, 75, 76, 78, 80, 82, 84, 85, 86, 88, 90, 92, 94, 95, 96, 98, 100]\n"
          ]
        }
      ],
      "source": [
        "l1 = []\n",
        "for i in range(1, 101):\n",
        "    cube = i**3\n",
        "    if cube % 4 == 0 or cube % 5 == 0:\n",
        "        l1.append(i)\n",
        "\n",
        "print(l1)\n"
      ]
    },
    {
      "cell_type": "markdown",
      "id": "9725a35d",
      "metadata": {
        "id": "9725a35d"
      },
      "source": [
        "###  With while loop"
      ]
    },
    {
      "cell_type": "code",
      "execution_count": 7,
      "id": "71852b96",
      "metadata": {
        "colab": {
          "base_uri": "https://localhost:8080/"
        },
        "id": "71852b96",
        "outputId": "e5b3afc3-4868-4481-b924-ae9ca1a98770"
      },
      "outputs": [
        {
          "output_type": "stream",
          "name": "stdout",
          "text": [
            "[2, 4, 5, 6, 8, 10, 12, 14, 15, 16, 18, 20, 22, 24, 25, 26, 28, 30, 32, 34, 35, 36, 38, 40, 42, 44, 45, 46, 48, 50, 52, 54, 55, 56, 58, 60, 62, 64, 65, 66, 68, 70, 72, 74, 75, 76, 78, 80, 82, 84, 85, 86, 88, 90, 92, 94, 95, 96, 98, 100]\n"
          ]
        }
      ],
      "source": [
        "l1=[]\n",
        "i=1\n",
        "while i <=100:\n",
        "    cube = i**3\n",
        "    if cube % 4 == 0 or cube % 5 == 0:\n",
        "        l1.append(i)\n",
        "    i=i+1\n",
        "print(l1)\n",
        ""
      ]
    },
    {
      "cell_type": "markdown",
      "id": "a4302e8a",
      "metadata": {
        "id": "a4302e8a"
      },
      "source": [
        "### 5. Way  to filter a count vowels in the below-given string.\n",
        "string=\"i want to become a data scientist\""
      ]
    },
    {
      "cell_type": "code",
      "execution_count": 8,
      "id": "c2d8047a",
      "metadata": {
        "colab": {
          "base_uri": "https://localhost:8080/"
        },
        "id": "c2d8047a",
        "outputId": "fb73967f-1bbb-43a0-b571-0ae38acda00f"
      },
      "outputs": [
        {
          "output_type": "stream",
          "name": "stdout",
          "text": [
            "Vowels in string are  ['I', 'a', 'o', 'e', 'o', 'e', 'a', 'a', 'a', 'i', 'e', 'i']\n",
            "Total vowels in a string are  12\n"
          ]
        }
      ],
      "source": [
        "string=\"I want to become a data scientist\"\n",
        "vowels=[]\n",
        "for i in string:\n",
        "    if i.lower() in ['a','e','i','o','u']:\n",
        "        vowels.append(i)\n",
        "print(\"Vowels in string are \", vowels)\n",
        "print(\"Total vowels in a string are \", len(vowels))\n",
        "\n",
        "\n",
        ""
      ]
    },
    {
      "cell_type": "code",
      "execution_count": 8,
      "id": "4760ac65",
      "metadata": {
        "id": "4760ac65"
      },
      "outputs": [],
      "source": []
    }
  ],
  "metadata": {
    "kernelspec": {
      "display_name": "Python 3 (ipykernel)",
      "language": "python",
      "name": "python3"
    },
    "language_info": {
      "codemirror_mode": {
        "name": "ipython",
        "version": 3
      },
      "file_extension": ".py",
      "mimetype": "text/x-python",
      "name": "python",
      "nbconvert_exporter": "python",
      "pygments_lexer": "ipython3",
      "version": "3.9.12"
    },
    "colab": {
      "provenance": []
    }
  },
  "nbformat": 4,
  "nbformat_minor": 5
}