{
 "cells": [
  {
   "cell_type": "raw",
   "id": "1c57cd2a",
   "metadata": {},
   "source": [
    "ANS1:-\n",
    "Python is developed by Guido van Rossum in 1991"
   ]
  },
  {
   "cell_type": "raw",
   "id": "e275b30b",
   "metadata": {},
   "source": [
    "ANS2:-\n",
    "Python support object-oriented,structured and functional programming"
   ]
  },
  {
   "cell_type": "raw",
   "id": "49d22ceb",
   "metadata": {},
   "source": [
    "Ans3:-\n",
    "Yes, Python is case-sensitive when dealing with identifiers. This means that the names given to variables, functions, classes, etc. must be unique, not just in terms of spelling, but also in terms of the case of the letters. For example, \"name\" and \"Name\" would be considered two different identifiers in Python."
   ]
  },
  {
   "cell_type": "raw",
   "id": "d9f421b8",
   "metadata": {},
   "source": [
    "Ans4:- .py is a correct extension for python file"
   ]
  },
  {
   "cell_type": "raw",
   "id": "0ffb3675",
   "metadata": {},
   "source": [
    "Ans5:- Python is an interpreted language, not a compiled language.The Python interpreter reads the code, compiles it into bytecode, and then executes the bytecode. "
   ]
  },
  {
   "cell_type": "raw",
   "id": "36e6c255",
   "metadata": {},
   "source": [
    "Ans6:-Functions: Functions are blocks of code that can be called and executed whenever needed. Functions are defined using the \"def\" keyword, followed by the function name and parameters, and a colon.\n",
    "\n",
    "Classes: Classes are the blueprint for creating objects, and define the attributes and methods of the objects. Classes are defined using the \"class\" keyword, followed by the class name and a colon.\n",
    "\n",
    "Conditional statements: Conditional statements are blocks of code that only get executed if a certain condition is met. In Python, conditional statements use the keywords \"if\", \"elif\", and \"else\".\n",
    "\n",
    "Loops: Loops are blocks of code that get executed repeatedly until a certain condition is met. In Python, there are two types of loops: \"for\" loops and \"while\" loops.\n",
    "\n",
    "Try-Except blocks: Try-Except blocks are blocks of code used to handle exceptions, or errors, in the code. The code within a \"try\" block is executed, and if an error occurs, the code within the corresponding \"except\" block is executed."
   ]
  },
  {
   "cell_type": "raw",
   "id": "e373c084",
   "metadata": {},
   "source": [
    "Ans7:-In Python, the # symbol is used to give single line comments. Any text following the # symbol on a line will be ignored by the interpreter and will not be executed as part of the code. For example:\n",
    "This is a single line comment\n",
    "print(\"Hello, World!\")\n"
   ]
  },
  {
   "cell_type": "raw",
   "id": "b7564034",
   "metadata": {},
   "source": [
    "Ans8:-The function sys.version can help us to find the version of python that we are currently working on."
   ]
  },
  {
   "cell_type": "raw",
   "id": "bfede00f",
   "metadata": {},
   "source": [
    "Ans9:- Python supports the creation of anonymous functions at runtime, using a construct called lambda "
   ]
  },
  {
   "cell_type": "markdown",
   "id": "b313913d",
   "metadata": {},
   "source": [
    "Ans10:- Pip stand for Preferred Installer Program it is used for importing packages etc for eg\n",
    "pip install gtts"
   ]
  },
  {
   "cell_type": "raw",
   "id": "d066feb9",
   "metadata": {},
   "source": [
    "Ans11:-\n",
    "print( ) function.\n",
    "type( ) function.\n",
    "input( ) function.\n",
    "abs( ) function.\n",
    "pow( ) function.\n",
    "dir( ) function.\n",
    "sorted( ) function.\n",
    "max( ) function. etc"
   ]
  },
  {
   "cell_type": "raw",
   "id": "9a3026bb",
   "metadata": {},
   "source": [
    " Ans12:- In Python, the highest possible length of an identifier is 79 characters."
   ]
  },
  {
   "cell_type": "raw",
   "id": "015fcd64",
   "metadata": {},
   "source": [
    "Ans13:- Python is easy to code , there are so many function available and library . \n",
    "python used in various field like data science , machine learning , game developement etc \n",
    "Python is commonly used for developing websites and software, task automation, data analysis, and data visualization.\n"
   ]
  },
  {
   "cell_type": "raw",
   "id": "bb943309",
   "metadata": {},
   "source": [
    "Ans14:-Memory management in Python is handled automatically by the Python memory manager, which is part of the Python runtime system. The memory manager performs various tasks, such as allocating memory for new objects, deallocating memory for objects that are no longer in use, and performing garbage collection to reclaim unused memory.\n",
    "Also python use a dynamic memory allocation"
   ]
  },
  {
   "cell_type": "raw",
   "id": "32c3a4a8",
   "metadata": {},
   "source": [
    "Ans15:- We can install python on windows from its official site and also install jupyter lab from anaconda and we set path variables in control panel"
   ]
  },
  {
   "cell_type": "raw",
   "id": "76d2557e",
   "metadata": {},
   "source": [
    "Ans16:- Yes indentation required in python \n",
    "if we donot follow indentation we get indentation error"
   ]
  }
 ],
 "metadata": {
  "kernelspec": {
   "display_name": "Python 3 (ipykernel)",
   "language": "python",
   "name": "python3"
  },
  "language_info": {
   "codemirror_mode": {
    "name": "ipython",
    "version": 3
   },
   "file_extension": ".py",
   "mimetype": "text/x-python",
   "name": "python",
   "nbconvert_exporter": "python",
   "pygments_lexer": "ipython3",
   "version": "3.9.12"
  }
 },
 "nbformat": 4,
 "nbformat_minor": 5
}
